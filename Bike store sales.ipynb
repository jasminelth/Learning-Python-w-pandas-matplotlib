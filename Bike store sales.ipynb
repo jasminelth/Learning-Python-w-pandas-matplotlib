{
 "cells": [
  {
   "cell_type": "markdown",
   "id": "2a1663c0",
   "metadata": {},
   "source": [
    "Learning Python w numpy, pandas & matplotlib"
   ]
  },
  {
   "cell_type": "code",
   "execution_count": 71,
   "id": "0a411204",
   "metadata": {},
   "outputs": [],
   "source": [
    "import numpy as np\n",
    "import pandas as pd\n",
    "import matplotlib.pyplot as plt\n",
    "\n",
    "%matplotlib inline"
   ]
  },
  {
   "cell_type": "markdown",
   "id": "8a26f8de",
   "metadata": {},
   "source": [
    "Read in Data & Glance"
   ]
  },
  {
   "cell_type": "code",
   "execution_count": 72,
   "id": "51149d7a",
   "metadata": {},
   "outputs": [],
   "source": [
    "sales = pd.read_csv('/Users/jasminelo/Desktop/data/python/pandas 101/sales_data.csv - sales_data.csv', parse_dates=['Date'])\n",
    "## Note: add parse_dates=['column'] coz pandas save dates as str"
   ]
  },
  {
   "cell_type": "code",
   "execution_count": 73,
   "id": "d70d2b2f",
   "metadata": {},
   "outputs": [
    {
     "data": {
      "text/html": [
       "<div>\n",
       "<style scoped>\n",
       "    .dataframe tbody tr th:only-of-type {\n",
       "        vertical-align: middle;\n",
       "    }\n",
       "\n",
       "    .dataframe tbody tr th {\n",
       "        vertical-align: top;\n",
       "    }\n",
       "\n",
       "    .dataframe thead th {\n",
       "        text-align: right;\n",
       "    }\n",
       "</style>\n",
       "<table border=\"1\" class=\"dataframe\">\n",
       "  <thead>\n",
       "    <tr style=\"text-align: right;\">\n",
       "      <th></th>\n",
       "      <th>Date</th>\n",
       "      <th>Day</th>\n",
       "      <th>Month</th>\n",
       "      <th>Year</th>\n",
       "      <th>Customer_Age</th>\n",
       "      <th>Age_Group</th>\n",
       "      <th>Customer_Gender</th>\n",
       "      <th>Country</th>\n",
       "      <th>State</th>\n",
       "      <th>Product_Category</th>\n",
       "      <th>Sub_Category</th>\n",
       "      <th>Product</th>\n",
       "      <th>Order_Quantity</th>\n",
       "      <th>Unit_Cost</th>\n",
       "      <th>Unit_Price</th>\n",
       "      <th>Profit</th>\n",
       "      <th>Cost</th>\n",
       "      <th>Revenue</th>\n",
       "    </tr>\n",
       "  </thead>\n",
       "  <tbody>\n",
       "    <tr>\n",
       "      <th>0</th>\n",
       "      <td>2013-11-26</td>\n",
       "      <td>26</td>\n",
       "      <td>November</td>\n",
       "      <td>2013</td>\n",
       "      <td>19</td>\n",
       "      <td>Youth (&lt;25)</td>\n",
       "      <td>M</td>\n",
       "      <td>Canada</td>\n",
       "      <td>British Columbia</td>\n",
       "      <td>Accessories</td>\n",
       "      <td>Bike Racks</td>\n",
       "      <td>Hitch Rack - 4-Bike</td>\n",
       "      <td>8</td>\n",
       "      <td>45</td>\n",
       "      <td>120</td>\n",
       "      <td>590</td>\n",
       "      <td>360</td>\n",
       "      <td>950</td>\n",
       "    </tr>\n",
       "    <tr>\n",
       "      <th>1</th>\n",
       "      <td>2015-11-26</td>\n",
       "      <td>26</td>\n",
       "      <td>November</td>\n",
       "      <td>2015</td>\n",
       "      <td>19</td>\n",
       "      <td>Youth (&lt;25)</td>\n",
       "      <td>M</td>\n",
       "      <td>Canada</td>\n",
       "      <td>British Columbia</td>\n",
       "      <td>Accessories</td>\n",
       "      <td>Bike Racks</td>\n",
       "      <td>Hitch Rack - 4-Bike</td>\n",
       "      <td>8</td>\n",
       "      <td>45</td>\n",
       "      <td>120</td>\n",
       "      <td>590</td>\n",
       "      <td>360</td>\n",
       "      <td>950</td>\n",
       "    </tr>\n",
       "    <tr>\n",
       "      <th>2</th>\n",
       "      <td>2014-03-23</td>\n",
       "      <td>23</td>\n",
       "      <td>March</td>\n",
       "      <td>2014</td>\n",
       "      <td>49</td>\n",
       "      <td>Adults (35-64)</td>\n",
       "      <td>M</td>\n",
       "      <td>Australia</td>\n",
       "      <td>New South Wales</td>\n",
       "      <td>Accessories</td>\n",
       "      <td>Bike Racks</td>\n",
       "      <td>Hitch Rack - 4-Bike</td>\n",
       "      <td>23</td>\n",
       "      <td>45</td>\n",
       "      <td>120</td>\n",
       "      <td>1366</td>\n",
       "      <td>1035</td>\n",
       "      <td>2401</td>\n",
       "    </tr>\n",
       "    <tr>\n",
       "      <th>3</th>\n",
       "      <td>2016-03-23</td>\n",
       "      <td>23</td>\n",
       "      <td>March</td>\n",
       "      <td>2016</td>\n",
       "      <td>49</td>\n",
       "      <td>Adults (35-64)</td>\n",
       "      <td>M</td>\n",
       "      <td>Australia</td>\n",
       "      <td>New South Wales</td>\n",
       "      <td>Accessories</td>\n",
       "      <td>Bike Racks</td>\n",
       "      <td>Hitch Rack - 4-Bike</td>\n",
       "      <td>20</td>\n",
       "      <td>45</td>\n",
       "      <td>120</td>\n",
       "      <td>1188</td>\n",
       "      <td>900</td>\n",
       "      <td>2088</td>\n",
       "    </tr>\n",
       "    <tr>\n",
       "      <th>4</th>\n",
       "      <td>2014-05-15</td>\n",
       "      <td>15</td>\n",
       "      <td>May</td>\n",
       "      <td>2014</td>\n",
       "      <td>47</td>\n",
       "      <td>Adults (35-64)</td>\n",
       "      <td>F</td>\n",
       "      <td>Australia</td>\n",
       "      <td>New South Wales</td>\n",
       "      <td>Accessories</td>\n",
       "      <td>Bike Racks</td>\n",
       "      <td>Hitch Rack - 4-Bike</td>\n",
       "      <td>4</td>\n",
       "      <td>45</td>\n",
       "      <td>120</td>\n",
       "      <td>238</td>\n",
       "      <td>180</td>\n",
       "      <td>418</td>\n",
       "    </tr>\n",
       "  </tbody>\n",
       "</table>\n",
       "</div>"
      ],
      "text/plain": [
       "        Date  Day     Month  Year  Customer_Age       Age_Group  \\\n",
       "0 2013-11-26   26  November  2013            19     Youth (<25)   \n",
       "1 2015-11-26   26  November  2015            19     Youth (<25)   \n",
       "2 2014-03-23   23     March  2014            49  Adults (35-64)   \n",
       "3 2016-03-23   23     March  2016            49  Adults (35-64)   \n",
       "4 2014-05-15   15       May  2014            47  Adults (35-64)   \n",
       "\n",
       "  Customer_Gender    Country             State Product_Category Sub_Category  \\\n",
       "0               M     Canada  British Columbia      Accessories   Bike Racks   \n",
       "1               M     Canada  British Columbia      Accessories   Bike Racks   \n",
       "2               M  Australia   New South Wales      Accessories   Bike Racks   \n",
       "3               M  Australia   New South Wales      Accessories   Bike Racks   \n",
       "4               F  Australia   New South Wales      Accessories   Bike Racks   \n",
       "\n",
       "               Product  Order_Quantity  Unit_Cost  Unit_Price  Profit  Cost  \\\n",
       "0  Hitch Rack - 4-Bike               8         45         120     590   360   \n",
       "1  Hitch Rack - 4-Bike               8         45         120     590   360   \n",
       "2  Hitch Rack - 4-Bike              23         45         120    1366  1035   \n",
       "3  Hitch Rack - 4-Bike              20         45         120    1188   900   \n",
       "4  Hitch Rack - 4-Bike               4         45         120     238   180   \n",
       "\n",
       "   Revenue  \n",
       "0      950  \n",
       "1      950  \n",
       "2     2401  \n",
       "3     2088  \n",
       "4      418  "
      ]
     },
     "execution_count": 73,
     "metadata": {},
     "output_type": "execute_result"
    }
   ],
   "source": [
    "sales.head()"
   ]
  },
  {
   "cell_type": "code",
   "execution_count": 74,
   "id": "aa6e8da3",
   "metadata": {},
   "outputs": [
    {
     "name": "stdout",
     "output_type": "stream",
     "text": [
      "<class 'pandas.core.frame.DataFrame'>\n",
      "RangeIndex: 113036 entries, 0 to 113035\n",
      "Data columns (total 18 columns):\n",
      " #   Column            Non-Null Count   Dtype         \n",
      "---  ------            --------------   -----         \n",
      " 0   Date              113036 non-null  datetime64[ns]\n",
      " 1   Day               113036 non-null  int64         \n",
      " 2   Month             113036 non-null  object        \n",
      " 3   Year              113036 non-null  int64         \n",
      " 4   Customer_Age      113036 non-null  int64         \n",
      " 5   Age_Group         113036 non-null  object        \n",
      " 6   Customer_Gender   113036 non-null  object        \n",
      " 7   Country           113036 non-null  object        \n",
      " 8   State             113036 non-null  object        \n",
      " 9   Product_Category  113036 non-null  object        \n",
      " 10  Sub_Category      113036 non-null  object        \n",
      " 11  Product           113036 non-null  object        \n",
      " 12  Order_Quantity    113036 non-null  int64         \n",
      " 13  Unit_Cost         113036 non-null  int64         \n",
      " 14  Unit_Price        113036 non-null  int64         \n",
      " 15  Profit            113036 non-null  int64         \n",
      " 16  Cost              113036 non-null  int64         \n",
      " 17  Revenue           113036 non-null  int64         \n",
      "dtypes: datetime64[ns](1), int64(9), object(8)\n",
      "memory usage: 15.5+ MB\n"
     ]
    }
   ],
   "source": [
    "sales.shape #rows & columns\n",
    "sales.info() #basic info of variables"
   ]
  },
  {
   "cell_type": "code",
   "execution_count": 75,
   "id": "d50c60b0",
   "metadata": {
    "scrolled": true
   },
   "outputs": [
    {
     "data": {
      "text/html": [
       "<div>\n",
       "<style scoped>\n",
       "    .dataframe tbody tr th:only-of-type {\n",
       "        vertical-align: middle;\n",
       "    }\n",
       "\n",
       "    .dataframe tbody tr th {\n",
       "        vertical-align: top;\n",
       "    }\n",
       "\n",
       "    .dataframe thead th {\n",
       "        text-align: right;\n",
       "    }\n",
       "</style>\n",
       "<table border=\"1\" class=\"dataframe\">\n",
       "  <thead>\n",
       "    <tr style=\"text-align: right;\">\n",
       "      <th></th>\n",
       "      <th>Day</th>\n",
       "      <th>Year</th>\n",
       "      <th>Customer_Age</th>\n",
       "      <th>Order_Quantity</th>\n",
       "      <th>Unit_Cost</th>\n",
       "      <th>Unit_Price</th>\n",
       "      <th>Profit</th>\n",
       "      <th>Cost</th>\n",
       "      <th>Revenue</th>\n",
       "    </tr>\n",
       "  </thead>\n",
       "  <tbody>\n",
       "    <tr>\n",
       "      <th>count</th>\n",
       "      <td>113036.000000</td>\n",
       "      <td>113036.000000</td>\n",
       "      <td>113036.000000</td>\n",
       "      <td>113036.000000</td>\n",
       "      <td>113036.000000</td>\n",
       "      <td>113036.000000</td>\n",
       "      <td>113036.000000</td>\n",
       "      <td>113036.000000</td>\n",
       "      <td>113036.000000</td>\n",
       "    </tr>\n",
       "    <tr>\n",
       "      <th>mean</th>\n",
       "      <td>15.665753</td>\n",
       "      <td>2014.401739</td>\n",
       "      <td>35.919212</td>\n",
       "      <td>11.901660</td>\n",
       "      <td>267.296366</td>\n",
       "      <td>452.938427</td>\n",
       "      <td>285.051665</td>\n",
       "      <td>469.318695</td>\n",
       "      <td>754.370360</td>\n",
       "    </tr>\n",
       "    <tr>\n",
       "      <th>std</th>\n",
       "      <td>8.781567</td>\n",
       "      <td>1.272510</td>\n",
       "      <td>11.021936</td>\n",
       "      <td>9.561857</td>\n",
       "      <td>549.835483</td>\n",
       "      <td>922.071219</td>\n",
       "      <td>453.887443</td>\n",
       "      <td>884.866118</td>\n",
       "      <td>1309.094674</td>\n",
       "    </tr>\n",
       "    <tr>\n",
       "      <th>min</th>\n",
       "      <td>1.000000</td>\n",
       "      <td>2011.000000</td>\n",
       "      <td>17.000000</td>\n",
       "      <td>1.000000</td>\n",
       "      <td>1.000000</td>\n",
       "      <td>2.000000</td>\n",
       "      <td>-30.000000</td>\n",
       "      <td>1.000000</td>\n",
       "      <td>2.000000</td>\n",
       "    </tr>\n",
       "    <tr>\n",
       "      <th>25%</th>\n",
       "      <td>8.000000</td>\n",
       "      <td>2013.000000</td>\n",
       "      <td>28.000000</td>\n",
       "      <td>2.000000</td>\n",
       "      <td>2.000000</td>\n",
       "      <td>5.000000</td>\n",
       "      <td>29.000000</td>\n",
       "      <td>28.000000</td>\n",
       "      <td>63.000000</td>\n",
       "    </tr>\n",
       "    <tr>\n",
       "      <th>50%</th>\n",
       "      <td>16.000000</td>\n",
       "      <td>2014.000000</td>\n",
       "      <td>35.000000</td>\n",
       "      <td>10.000000</td>\n",
       "      <td>9.000000</td>\n",
       "      <td>24.000000</td>\n",
       "      <td>101.000000</td>\n",
       "      <td>108.000000</td>\n",
       "      <td>223.000000</td>\n",
       "    </tr>\n",
       "    <tr>\n",
       "      <th>75%</th>\n",
       "      <td>23.000000</td>\n",
       "      <td>2016.000000</td>\n",
       "      <td>43.000000</td>\n",
       "      <td>20.000000</td>\n",
       "      <td>42.000000</td>\n",
       "      <td>70.000000</td>\n",
       "      <td>358.000000</td>\n",
       "      <td>432.000000</td>\n",
       "      <td>800.000000</td>\n",
       "    </tr>\n",
       "    <tr>\n",
       "      <th>max</th>\n",
       "      <td>31.000000</td>\n",
       "      <td>2016.000000</td>\n",
       "      <td>87.000000</td>\n",
       "      <td>32.000000</td>\n",
       "      <td>2171.000000</td>\n",
       "      <td>3578.000000</td>\n",
       "      <td>15096.000000</td>\n",
       "      <td>42978.000000</td>\n",
       "      <td>58074.000000</td>\n",
       "    </tr>\n",
       "  </tbody>\n",
       "</table>\n",
       "</div>"
      ],
      "text/plain": [
       "                 Day           Year   Customer_Age  Order_Quantity  \\\n",
       "count  113036.000000  113036.000000  113036.000000   113036.000000   \n",
       "mean       15.665753    2014.401739      35.919212       11.901660   \n",
       "std         8.781567       1.272510      11.021936        9.561857   \n",
       "min         1.000000    2011.000000      17.000000        1.000000   \n",
       "25%         8.000000    2013.000000      28.000000        2.000000   \n",
       "50%        16.000000    2014.000000      35.000000       10.000000   \n",
       "75%        23.000000    2016.000000      43.000000       20.000000   \n",
       "max        31.000000    2016.000000      87.000000       32.000000   \n",
       "\n",
       "           Unit_Cost     Unit_Price         Profit           Cost  \\\n",
       "count  113036.000000  113036.000000  113036.000000  113036.000000   \n",
       "mean      267.296366     452.938427     285.051665     469.318695   \n",
       "std       549.835483     922.071219     453.887443     884.866118   \n",
       "min         1.000000       2.000000     -30.000000       1.000000   \n",
       "25%         2.000000       5.000000      29.000000      28.000000   \n",
       "50%         9.000000      24.000000     101.000000     108.000000   \n",
       "75%        42.000000      70.000000     358.000000     432.000000   \n",
       "max      2171.000000    3578.000000   15096.000000   42978.000000   \n",
       "\n",
       "             Revenue  \n",
       "count  113036.000000  \n",
       "mean      754.370360  \n",
       "std      1309.094674  \n",
       "min         2.000000  \n",
       "25%        63.000000  \n",
       "50%       223.000000  \n",
       "75%       800.000000  \n",
       "max     58074.000000  "
      ]
     },
     "execution_count": 75,
     "metadata": {},
     "output_type": "execute_result"
    }
   ],
   "source": [
    "sales.describe() #summary of data"
   ]
  },
  {
   "cell_type": "markdown",
   "id": "46e0ceda",
   "metadata": {},
   "source": [
    "Numerical Analysis & Visualization"
   ]
  },
  {
   "cell_type": "code",
   "execution_count": 76,
   "id": "0585e39c",
   "metadata": {},
   "outputs": [
    {
     "data": {
      "text/plain": [
       "count    113036.000000\n",
       "mean        267.296366\n",
       "std         549.835483\n",
       "min           1.000000\n",
       "25%           2.000000\n",
       "50%           9.000000\n",
       "75%          42.000000\n",
       "max        2171.000000\n",
       "Name: Unit_Cost, dtype: float64"
      ]
     },
     "execution_count": 76,
     "metadata": {},
     "output_type": "execute_result"
    }
   ],
   "source": [
    "#Numerical analysis on ['Unit_Cost'] column\n",
    "sales['Unit_Cost'].describe()"
   ]
  },
  {
   "cell_type": "code",
   "execution_count": 77,
   "id": "0cb1b89f",
   "metadata": {},
   "outputs": [
    {
     "data": {
      "text/plain": [
       "<AxesSubplot:>"
      ]
     },
     "execution_count": 77,
     "metadata": {},
     "output_type": "execute_result"
    },
    {
     "data": {
      "image/png": "[encoded data removed]",
      "text/plain": [
       "<Figure size 1008x432 with 1 Axes>"
      ]
     },
     "metadata": {
      "needs_background": "light"
     },
     "output_type": "display_data"
    }
   ],
   "source": [
    "#Visualization on Unit_Cost (matplotlib)\n",
    "#Boxplot\n",
    "sales['Unit_Cost'].plot(kind='box', vert=False, figsize=(14,6))"
   ]
  },
  {
   "cell_type": "code",
   "execution_count": 78,
   "id": "f08c8bbd",
   "metadata": {},
   "outputs": [
    {
     "data": {
      "text/plain": [
       "<AxesSubplot:ylabel='Density'>"
      ]
     },
     "execution_count": 78,
     "metadata": {},
     "output_type": "execute_result"
    },
    {
     "data": {
      "image/png": "[encoded data removed]",
      "text/plain": [
       "<Figure size 1008x432 with 1 Axes>"
      ]
     },
     "metadata": {
      "needs_background": "light"
     },
     "output_type": "display_data"
    }
   ],
   "source": [
    "#Kernel density chart\n",
    "sales['Unit_Cost'].plot(kind='density', figsize=(14,6))"
   ]
  },
  {
   "cell_type": "code",
   "execution_count": 79,
   "id": "d704945e",
   "metadata": {},
   "outputs": [
    {
     "data": {
      "text/plain": [
       "Text(0.5, 0, 'Unit Cost in dollars')"
      ]
     },
     "execution_count": 79,
     "metadata": {},
     "output_type": "execute_result"
    },
    {
     "data": {
      "image/png": "[encoded data removed]",
      "text/plain": [
       "<Figure size 1008x432 with 1 Axes>"
      ]
     },
     "metadata": {
      "needs_background": "light"
     },
     "output_type": "display_data"
    }
   ],
   "source": [
    "ax = sales['Unit_Cost'].plot(kind='density', figsize=(14,6))\n",
    "ax.axvline(sales['Unit_Cost'].mean(), color = 'red')\n",
    "ax.axvline(sales['Unit_Cost'].median(), color = 'green')\n",
    "#add a mean, median line using ax.axvline(data.mean(), color='')\n",
    "ax.set_xlabel('Unit Cost in dollars')\n",
    "#add label for axis"
   ]
  },
  {
   "cell_type": "code",
   "execution_count": 80,
   "id": "126ea988",
   "metadata": {},
   "outputs": [
    {
     "data": {
      "text/plain": [
       "Text(0.5, 0, 'dollars')"
      ]
     },
     "execution_count": 80,
     "metadata": {},
     "output_type": "execute_result"
    },
    {
     "data": {
      "image/png": "[encoded data removed]",
      "text/plain": [
       "<Figure size 1008x432 with 1 Axes>"
      ]
     },
     "metadata": {
      "needs_background": "light"
     },
     "output_type": "display_data"
    }
   ],
   "source": [
    "#Histogram\n",
    "ax = sales['Unit_Cost'].plot(kind='hist', figsize=(14,6))\n",
    "ax.set_ylabel('Number of Sales')\n",
    "ax.set_xlabel('dollars')"
   ]
  },
  {
   "cell_type": "markdown",
   "id": "5d4f815a",
   "metadata": {},
   "source": [
    "Categorical Analysis & Visualization"
   ]
  },
  {
   "cell_type": "code",
   "execution_count": 81,
   "id": "6de2c859",
   "metadata": {},
   "outputs": [
    {
     "data": {
      "text/plain": [
       "Adults (35-64)          55824\n",
       "Young Adults (25-34)    38654\n",
       "Youth (<25)             17828\n",
       "Seniors (64+)             730\n",
       "Name: Age_Group, dtype: int64"
      ]
     },
     "execution_count": 81,
     "metadata": {},
     "output_type": "execute_result"
    }
   ],
   "source": [
    "#Age_Group column\n",
    "sales['Age_Group'].value_counts()"
   ]
  },
  {
   "cell_type": "code",
   "execution_count": 82,
   "id": "865340c7",
   "metadata": {},
   "outputs": [
    {
     "data": {
      "text/plain": [
       "<AxesSubplot:ylabel='Age_Group'>"
      ]
     },
     "execution_count": 82,
     "metadata": {},
     "output_type": "execute_result"
    },
    {
     "data": {
      "image/png": "[encoded data removed]",
      "text/plain": [
       "<Figure size 432x432 with 1 Axes>"
      ]
     },
     "metadata": {},
     "output_type": "display_data"
    }
   ],
   "source": [
    "#Pie Chart\n",
    "sales['Age_Group'].value_counts().plot(kind='pie', figsize=(6,6))"
   ]
  },
  {
   "cell_type": "markdown",
   "id": "89baebab",
   "metadata": {},
   "source": [
    "Correlation between the columns"
   ]
  },
  {
   "cell_type": "code",
   "execution_count": 83,
   "id": "c8bed0da",
   "metadata": {},
   "outputs": [
    {
     "data": {
      "text/html": [
       "<div>\n",
       "<style scoped>\n",
       "    .dataframe tbody tr th:only-of-type {\n",
       "        vertical-align: middle;\n",
       "    }\n",
       "\n",
       "    .dataframe tbody tr th {\n",
       "        vertical-align: top;\n",
       "    }\n",
       "\n",
       "    .dataframe thead th {\n",
       "        text-align: right;\n",
       "    }\n",
       "</style>\n",
       "<table border=\"1\" class=\"dataframe\">\n",
       "  <thead>\n",
       "    <tr style=\"text-align: right;\">\n",
       "      <th></th>\n",
       "      <th>Day</th>\n",
       "      <th>Year</th>\n",
       "      <th>Customer_Age</th>\n",
       "      <th>Order_Quantity</th>\n",
       "      <th>Unit_Cost</th>\n",
       "      <th>Unit_Price</th>\n",
       "      <th>Profit</th>\n",
       "      <th>Cost</th>\n",
       "      <th>Revenue</th>\n",
       "    </tr>\n",
       "  </thead>\n",
       "  <tbody>\n",
       "    <tr>\n",
       "      <th>Day</th>\n",
       "      <td>1.000000</td>\n",
       "      <td>-0.007635</td>\n",
       "      <td>-0.014296</td>\n",
       "      <td>-0.002412</td>\n",
       "      <td>0.003133</td>\n",
       "      <td>0.003207</td>\n",
       "      <td>0.004623</td>\n",
       "      <td>0.003329</td>\n",
       "      <td>0.003853</td>\n",
       "    </tr>\n",
       "    <tr>\n",
       "      <th>Year</th>\n",
       "      <td>-0.007635</td>\n",
       "      <td>1.000000</td>\n",
       "      <td>0.040994</td>\n",
       "      <td>0.123169</td>\n",
       "      <td>-0.217575</td>\n",
       "      <td>-0.213673</td>\n",
       "      <td>-0.181525</td>\n",
       "      <td>-0.215604</td>\n",
       "      <td>-0.208673</td>\n",
       "    </tr>\n",
       "    <tr>\n",
       "      <th>Customer_Age</th>\n",
       "      <td>-0.014296</td>\n",
       "      <td>0.040994</td>\n",
       "      <td>1.000000</td>\n",
       "      <td>0.026887</td>\n",
       "      <td>-0.021374</td>\n",
       "      <td>-0.020262</td>\n",
       "      <td>0.004319</td>\n",
       "      <td>-0.016013</td>\n",
       "      <td>-0.009326</td>\n",
       "    </tr>\n",
       "    <tr>\n",
       "      <th>Order_Quantity</th>\n",
       "      <td>-0.002412</td>\n",
       "      <td>0.123169</td>\n",
       "      <td>0.026887</td>\n",
       "      <td>1.000000</td>\n",
       "      <td>-0.515835</td>\n",
       "      <td>-0.515925</td>\n",
       "      <td>-0.238863</td>\n",
       "      <td>-0.340382</td>\n",
       "      <td>-0.312895</td>\n",
       "    </tr>\n",
       "    <tr>\n",
       "      <th>Unit_Cost</th>\n",
       "      <td>0.003133</td>\n",
       "      <td>-0.217575</td>\n",
       "      <td>-0.021374</td>\n",
       "      <td>-0.515835</td>\n",
       "      <td>1.000000</td>\n",
       "      <td>0.997894</td>\n",
       "      <td>0.741020</td>\n",
       "      <td>0.829869</td>\n",
       "      <td>0.817865</td>\n",
       "    </tr>\n",
       "    <tr>\n",
       "      <th>Unit_Price</th>\n",
       "      <td>0.003207</td>\n",
       "      <td>-0.213673</td>\n",
       "      <td>-0.020262</td>\n",
       "      <td>-0.515925</td>\n",
       "      <td>0.997894</td>\n",
       "      <td>1.000000</td>\n",
       "      <td>0.749870</td>\n",
       "      <td>0.826301</td>\n",
       "      <td>0.818522</td>\n",
       "    </tr>\n",
       "    <tr>\n",
       "      <th>Profit</th>\n",
       "      <td>0.004623</td>\n",
       "      <td>-0.181525</td>\n",
       "      <td>0.004319</td>\n",
       "      <td>-0.238863</td>\n",
       "      <td>0.741020</td>\n",
       "      <td>0.749870</td>\n",
       "      <td>1.000000</td>\n",
       "      <td>0.902233</td>\n",
       "      <td>0.956572</td>\n",
       "    </tr>\n",
       "    <tr>\n",
       "      <th>Cost</th>\n",
       "      <td>0.003329</td>\n",
       "      <td>-0.215604</td>\n",
       "      <td>-0.016013</td>\n",
       "      <td>-0.340382</td>\n",
       "      <td>0.829869</td>\n",
       "      <td>0.826301</td>\n",
       "      <td>0.902233</td>\n",
       "      <td>1.000000</td>\n",
       "      <td>0.988758</td>\n",
       "    </tr>\n",
       "    <tr>\n",
       "      <th>Revenue</th>\n",
       "      <td>0.003853</td>\n",
       "      <td>-0.208673</td>\n",
       "      <td>-0.009326</td>\n",
       "      <td>-0.312895</td>\n",
       "      <td>0.817865</td>\n",
       "      <td>0.818522</td>\n",
       "      <td>0.956572</td>\n",
       "      <td>0.988758</td>\n",
       "      <td>1.000000</td>\n",
       "    </tr>\n",
       "  </tbody>\n",
       "</table>\n",
       "</div>"
      ],
      "text/plain": [
       "                     Day      Year  Customer_Age  Order_Quantity  Unit_Cost  \\\n",
       "Day             1.000000 -0.007635     -0.014296       -0.002412   0.003133   \n",
       "Year           -0.007635  1.000000      0.040994        0.123169  -0.217575   \n",
       "Customer_Age   -0.014296  0.040994      1.000000        0.026887  -0.021374   \n",
       "Order_Quantity -0.002412  0.123169      0.026887        1.000000  -0.515835   \n",
       "Unit_Cost       0.003133 -0.217575     -0.021374       -0.515835   1.000000   \n",
       "Unit_Price      0.003207 -0.213673     -0.020262       -0.515925   0.997894   \n",
       "Profit          0.004623 -0.181525      0.004319       -0.238863   0.741020   \n",
       "Cost            0.003329 -0.215604     -0.016013       -0.340382   0.829869   \n",
       "Revenue         0.003853 -0.208673     -0.009326       -0.312895   0.817865   \n",
       "\n",
       "                Unit_Price    Profit      Cost   Revenue  \n",
       "Day               0.003207  0.004623  0.003329  0.003853  \n",
       "Year             -0.213673 -0.181525 -0.215604 -0.208673  \n",
       "Customer_Age     -0.020262  0.004319 -0.016013 -0.009326  \n",
       "Order_Quantity   -0.515925 -0.238863 -0.340382 -0.312895  \n",
       "Unit_Cost         0.997894  0.741020  0.829869  0.817865  \n",
       "Unit_Price        1.000000  0.749870  0.826301  0.818522  \n",
       "Profit            0.749870  1.000000  0.902233  0.956572  \n",
       "Cost              0.826301  0.902233  1.000000  0.988758  \n",
       "Revenue           0.818522  0.956572  0.988758  1.000000  "
      ]
     },
     "execution_count": 83,
     "metadata": {},
     "output_type": "execute_result"
    }
   ],
   "source": [
    "corr = sales.corr()\n",
    "corr"
   ]
  },
  {
   "cell_type": "code",
   "execution_count": 84,
   "id": "5379ad2c",
   "metadata": {},
   "outputs": [
    {
     "data": {
      "image/png": "[encoded data removed]",
      "text/plain": [
       "<Figure size 576x576 with 1 Axes>"
      ]
     },
     "metadata": {
      "needs_background": "light"
     },
     "output_type": "display_data"
    }
   ],
   "source": [
    "#plot a cor chart\n",
    "corr_fig = plt.figure(figsize=(8,8))\n",
    "plt.matshow(corr, cmap='RdBu', fignum= corr_fig.number)\n",
    "#cmap means colormaps = redblue\n",
    "plt.xticks(range(len(corr.columns)), corr.columns, rotation='vertical')\n",
    "#rotate axis label by using rotation='vertical'\n",
    "plt.yticks(range(len(corr.columns)), corr.columns);"
   ]
  },
  {
   "cell_type": "code",
   "execution_count": 85,
   "id": "3b2640a2",
   "metadata": {},
   "outputs": [
    {
     "data": {
      "text/plain": [
       "<AxesSubplot:xlabel='Customer_Age', ylabel='Revenue'>"
      ]
     },
     "execution_count": 85,
     "metadata": {},
     "output_type": "execute_result"
    },
    {
     "data": {
      "image/png": "[encoded data removed]",
      "text/plain": [
       "<Figure size 432x432 with 1 Axes>"
      ]
     },
     "metadata": {
      "needs_background": "light"
     },
     "output_type": "display_data"
    }
   ],
   "source": [
    "#scatter plot\n",
    "sales.plot(kind='scatter', x='Customer_Age', y='Revenue', figsize=(6,6))"
   ]
  },
  {
   "cell_type": "code",
   "execution_count": 86,
   "id": "22b2afa7",
   "metadata": {},
   "outputs": [
    {
     "data": {
      "text/plain": [
       "<AxesSubplot:xlabel='Revenue', ylabel='Profit'>"
      ]
     },
     "execution_count": 86,
     "metadata": {},
     "output_type": "execute_result"
    },
    {
     "data": {
      "image/png": "[encoded data removed]",
      "text/plain": [
       "<Figure size 432x432 with 1 Axes>"
      ]
     },
     "metadata": {
      "needs_background": "light"
     },
     "output_type": "display_data"
    }
   ],
   "source": [
    "sales.plot(kind='scatter', x='Revenue', y='Profit', figsize=(6,6))"
   ]
  },
  {
   "cell_type": "code",
   "execution_count": 87,
   "id": "85587a75",
   "metadata": {},
   "outputs": [
    {
     "data": {
      "text/plain": [
       "Text(0, 0.5, 'Profit')"
      ]
     },
     "execution_count": 87,
     "metadata": {},
     "output_type": "execute_result"
    },
    {
     "data": {
      "image/png": "[encoded data removed]",
      "text/plain": [
       "<Figure size 720x432 with 1 Axes>"
      ]
     },
     "metadata": {
      "needs_background": "light"
     },
     "output_type": "display_data"
    }
   ],
   "source": [
    "ax = sales[['Profit', 'Age_Group']].boxplot(by='Age_Group', figsize=(10,6))\n",
    "ax.set_ylabel('Profit')"
   ]
  },
  {
   "cell_type": "code",
   "execution_count": 88,
   "id": "476c11a6",
   "metadata": {},
   "outputs": [
    {
     "data": {
      "text/plain": [
       "Year                 AxesSubplot(0.125,0.536818;0.227941x0.343182)\n",
       "Customer_Age      AxesSubplot(0.398529,0.536818;0.227941x0.343182)\n",
       "Order_Quantity    AxesSubplot(0.672059,0.536818;0.227941x0.343182)\n",
       "Unit_Cost               AxesSubplot(0.125,0.125;0.227941x0.343182)\n",
       "Unit_Price           AxesSubplot(0.398529,0.125;0.227941x0.343182)\n",
       "Profit               AxesSubplot(0.672059,0.125;0.227941x0.343182)\n",
       "dtype: object"
      ]
     },
     "execution_count": 88,
     "metadata": {},
     "output_type": "execute_result"
    },
    {
     "data": {
      "image/png": "[encoded data removed]",
      "text/plain": [
       "<Figure size 720x432 with 6 Axes>"
      ]
     },
     "metadata": {
      "needs_background": "light"
     },
     "output_type": "display_data"
    }
   ],
   "source": [
    "boxplot_cols = ['Year', 'Customer_Age', 'Order_Quantity', 'Unit_Cost', 'Unit_Price', 'Profit']\n",
    "sales[boxplot_cols].plot(kind='box', subplots=True, layout=(2,3), figsize=(10,6))"
   ]
  },
  {
   "cell_type": "markdown",
   "id": "a7834ae6",
   "metadata": {},
   "source": [
    "Column Wrangling (data cleaning)\n",
    "create new columns or modify existing ones"
   ]
  },
  {
   "cell_type": "code",
   "execution_count": 89,
   "id": "46afa04b",
   "metadata": {},
   "outputs": [
    {
     "data": {
      "text/plain": [
       "0    50.000000\n",
       "1    50.000000\n",
       "2    49.000000\n",
       "3    42.612245\n",
       "4     8.893617\n",
       "Name: Revenue_per_Age, dtype: float64"
      ]
     },
     "execution_count": 89,
     "metadata": {},
     "output_type": "execute_result"
    }
   ],
   "source": [
    "#Add and calculate a new Revenue_per_Age column\n",
    "sales['Revenue_per_Age']=sales['Revenue']/sales['Customer_Age']\n",
    "sales['Revenue_per_Age'].head()"
   ]
  },
  {
   "cell_type": "code",
   "execution_count": 90,
   "id": "83292d3b",
   "metadata": {},
   "outputs": [
    {
     "data": {
      "text/plain": [
       "<AxesSubplot:ylabel='Density'>"
      ]
     },
     "execution_count": 90,
     "metadata": {},
     "output_type": "execute_result"
    },
    {
     "data": {
      "image/png": "[encoded data removed]",
      "text/plain": [
       "<Figure size 1008x432 with 1 Axes>"
      ]
     },
     "metadata": {
      "needs_background": "light"
     },
     "output_type": "display_data"
    }
   ],
   "source": [
    "sales['Revenue_per_Age'].plot(kind='density', figsize=(14,6))"
   ]
  },
  {
   "cell_type": "code",
   "execution_count": 91,
   "id": "bdcddf64",
   "metadata": {},
   "outputs": [
    {
     "data": {
      "text/plain": [
       "<AxesSubplot:ylabel='Frequency'>"
      ]
     },
     "execution_count": 91,
     "metadata": {},
     "output_type": "execute_result"
    },
    {
     "data": {
      "image/png": "[encoded data removed]",
      "text/plain": [
       "<Figure size 1008x432 with 1 Axes>"
      ]
     },
     "metadata": {
      "needs_background": "light"
     },
     "output_type": "display_data"
    }
   ],
   "source": [
    "sales['Revenue_per_Age'].plot(kind='hist', figsize=(14,6))"
   ]
  },
  {
   "cell_type": "code",
   "execution_count": 92,
   "id": "5eea4f56",
   "metadata": {},
   "outputs": [
    {
     "data": {
      "text/plain": [
       "0     360\n",
       "1     360\n",
       "2    1035\n",
       "3     900\n",
       "4     180\n",
       "Name: Calculated_Cost, dtype: int64"
      ]
     },
     "execution_count": 92,
     "metadata": {},
     "output_type": "execute_result"
    }
   ],
   "source": [
    "#Add and calculate a new Calculated_Cost column\n",
    "sales['Calculated_Cost'] = sales['Order_Quantity']*sales['Unit_Cost']\n",
    "sales['Calculated_Cost'].head()"
   ]
  },
  {
   "cell_type": "code",
   "execution_count": 93,
   "id": "c0ccf06f",
   "metadata": {},
   "outputs": [
    {
     "data": {
      "text/plain": [
       "0"
      ]
     },
     "execution_count": 93,
     "metadata": {},
     "output_type": "execute_result"
    }
   ],
   "source": [
    "(sales['Calculated_Cost'] != sales['Cost']).sum()"
   ]
  },
  {
   "cell_type": "code",
   "execution_count": 94,
   "id": "c5072504",
   "metadata": {},
   "outputs": [
    {
     "data": {
      "text/plain": [
       "<AxesSubplot:xlabel='Calculated_Cost', ylabel='Profit'>"
      ]
     },
     "execution_count": 94,
     "metadata": {},
     "output_type": "execute_result"
    },
    {
     "data": {
      "image/png": "[encoded data removed]",
      "text/plain": [
       "<Figure size 432x432 with 1 Axes>"
      ]
     },
     "metadata": {
      "needs_background": "light"
     },
     "output_type": "display_data"
    }
   ],
   "source": [
    "sales.plot(kind='scatter', x='Calculated_Cost', y='Profit', figsize=(6,6))"
   ]
  },
  {
   "cell_type": "code",
   "execution_count": 95,
   "id": "e5c4c752",
   "metadata": {},
   "outputs": [
    {
     "data": {
      "text/plain": [
       "0     950\n",
       "1     950\n",
       "2    2401\n",
       "3    2088\n",
       "4     418\n",
       "Name: Calculated_Revenue, dtype: int64"
      ]
     },
     "execution_count": 95,
     "metadata": {},
     "output_type": "execute_result"
    }
   ],
   "source": [
    "#Add a new Calculated_Revenue column\n",
    "sales['Calculated_Revenue'] = sales['Cost'] + sales['Profit']\n",
    "\n",
    "sales['Calculated_Revenue'].head()"
   ]
  },
  {
   "cell_type": "code",
   "execution_count": 96,
   "id": "a5dbd556",
   "metadata": {},
   "outputs": [
    {
     "data": {
      "text/plain": [
       "0"
      ]
     },
     "execution_count": 96,
     "metadata": {},
     "output_type": "execute_result"
    }
   ],
   "source": [
    "(sales['Calculated_Revenue'] != sales['Revenue']).sum()\n",
    "#doublecheck w the revenue column (they should be the same)"
   ]
  },
  {
   "cell_type": "code",
   "execution_count": 97,
   "id": "a1070617",
   "metadata": {},
   "outputs": [
    {
     "data": {
      "text/plain": [
       "<AxesSubplot:ylabel='Frequency'>"
      ]
     },
     "execution_count": 97,
     "metadata": {},
     "output_type": "execute_result"
    },
    {
     "data": {
      "image/png": "[encoded data removed]",
      "text/plain": [
       "<Figure size 1008x432 with 1 Axes>"
      ]
     },
     "metadata": {
      "needs_background": "light"
     },
     "output_type": "display_data"
    }
   ],
   "source": [
    "sales['Revenue'].plot(kind='hist',bins=100, figsize=(14,6))"
   ]
  },
  {
   "cell_type": "markdown",
   "id": "2d8e04f8",
   "metadata": {},
   "source": [
    "Modify all Unit_Price values adding 3% tax to them"
   ]
  },
  {
   "cell_type": "code",
   "execution_count": 98,
   "id": "7c77b8ad",
   "metadata": {},
   "outputs": [
    {
     "data": {
      "text/plain": [
       "0    120\n",
       "1    120\n",
       "2    120\n",
       "3    120\n",
       "4    120\n",
       "Name: Unit_Price, dtype: int64"
      ]
     },
     "execution_count": 98,
     "metadata": {},
     "output_type": "execute_result"
    }
   ],
   "source": [
    "sales['Unit_Price'].head()"
   ]
  },
  {
   "cell_type": "code",
   "execution_count": 99,
   "id": "13af3b3f",
   "metadata": {},
   "outputs": [],
   "source": [
    "#sales['Unit_Price'] = sales['Unit_Price'] * 1.03\n",
    "\n",
    "sales['Unit_Price'] *= 1.03"
   ]
  },
  {
   "cell_type": "code",
   "execution_count": 100,
   "id": "38832f02",
   "metadata": {},
   "outputs": [
    {
     "data": {
      "text/plain": [
       "0    123.6\n",
       "1    123.6\n",
       "2    123.6\n",
       "3    123.6\n",
       "4    123.6\n",
       "Name: Unit_Price, dtype: float64"
      ]
     },
     "execution_count": 100,
     "metadata": {},
     "output_type": "execute_result"
    }
   ],
   "source": [
    "sales['Unit_Price'].head()"
   ]
  },
  {
   "cell_type": "markdown",
   "id": "7501e257",
   "metadata": {},
   "source": [
    "Selection & Indexing"
   ]
  },
  {
   "cell_type": "code",
   "execution_count": 101,
   "id": "7b4334a6",
   "metadata": {},
   "outputs": [
    {
     "data": {
      "text/html": [
       "<div>\n",
       "<style scoped>\n",
       "    .dataframe tbody tr th:only-of-type {\n",
       "        vertical-align: middle;\n",
       "    }\n",
       "\n",
       "    .dataframe tbody tr th {\n",
       "        vertical-align: top;\n",
       "    }\n",
       "\n",
       "    .dataframe thead th {\n",
       "        text-align: right;\n",
       "    }\n",
       "</style>\n",
       "<table border=\"1\" class=\"dataframe\">\n",
       "  <thead>\n",
       "    <tr style=\"text-align: right;\">\n",
       "      <th></th>\n",
       "      <th>Date</th>\n",
       "      <th>Day</th>\n",
       "      <th>Month</th>\n",
       "      <th>Year</th>\n",
       "      <th>Customer_Age</th>\n",
       "      <th>Age_Group</th>\n",
       "      <th>Customer_Gender</th>\n",
       "      <th>Country</th>\n",
       "      <th>State</th>\n",
       "      <th>Product_Category</th>\n",
       "      <th>...</th>\n",
       "      <th>Product</th>\n",
       "      <th>Order_Quantity</th>\n",
       "      <th>Unit_Cost</th>\n",
       "      <th>Unit_Price</th>\n",
       "      <th>Profit</th>\n",
       "      <th>Cost</th>\n",
       "      <th>Revenue</th>\n",
       "      <th>Revenue_per_Age</th>\n",
       "      <th>Calculated_Cost</th>\n",
       "      <th>Calculated_Revenue</th>\n",
       "    </tr>\n",
       "  </thead>\n",
       "  <tbody>\n",
       "    <tr>\n",
       "      <th>156</th>\n",
       "      <td>2013-11-04</td>\n",
       "      <td>4</td>\n",
       "      <td>November</td>\n",
       "      <td>2013</td>\n",
       "      <td>40</td>\n",
       "      <td>Adults (35-64)</td>\n",
       "      <td>M</td>\n",
       "      <td>United States</td>\n",
       "      <td>Kentucky</td>\n",
       "      <td>Accessories</td>\n",
       "      <td>...</td>\n",
       "      <td>Hitch Rack - 4-Bike</td>\n",
       "      <td>1</td>\n",
       "      <td>45</td>\n",
       "      <td>123.60</td>\n",
       "      <td>63</td>\n",
       "      <td>45</td>\n",
       "      <td>108</td>\n",
       "      <td>2.700</td>\n",
       "      <td>45</td>\n",
       "      <td>108</td>\n",
       "    </tr>\n",
       "    <tr>\n",
       "      <th>157</th>\n",
       "      <td>2015-11-04</td>\n",
       "      <td>4</td>\n",
       "      <td>November</td>\n",
       "      <td>2015</td>\n",
       "      <td>40</td>\n",
       "      <td>Adults (35-64)</td>\n",
       "      <td>M</td>\n",
       "      <td>United States</td>\n",
       "      <td>Kentucky</td>\n",
       "      <td>Accessories</td>\n",
       "      <td>...</td>\n",
       "      <td>Hitch Rack - 4-Bike</td>\n",
       "      <td>1</td>\n",
       "      <td>45</td>\n",
       "      <td>123.60</td>\n",
       "      <td>63</td>\n",
       "      <td>45</td>\n",
       "      <td>108</td>\n",
       "      <td>2.700</td>\n",
       "      <td>45</td>\n",
       "      <td>108</td>\n",
       "    </tr>\n",
       "    <tr>\n",
       "      <th>23826</th>\n",
       "      <td>2014-04-16</td>\n",
       "      <td>16</td>\n",
       "      <td>April</td>\n",
       "      <td>2014</td>\n",
       "      <td>40</td>\n",
       "      <td>Adults (35-64)</td>\n",
       "      <td>M</td>\n",
       "      <td>United States</td>\n",
       "      <td>Kentucky</td>\n",
       "      <td>Accessories</td>\n",
       "      <td>...</td>\n",
       "      <td>Fender Set - Mountain</td>\n",
       "      <td>12</td>\n",
       "      <td>8</td>\n",
       "      <td>22.66</td>\n",
       "      <td>142</td>\n",
       "      <td>96</td>\n",
       "      <td>238</td>\n",
       "      <td>5.950</td>\n",
       "      <td>96</td>\n",
       "      <td>238</td>\n",
       "    </tr>\n",
       "    <tr>\n",
       "      <th>23827</th>\n",
       "      <td>2016-04-16</td>\n",
       "      <td>16</td>\n",
       "      <td>April</td>\n",
       "      <td>2016</td>\n",
       "      <td>40</td>\n",
       "      <td>Adults (35-64)</td>\n",
       "      <td>M</td>\n",
       "      <td>United States</td>\n",
       "      <td>Kentucky</td>\n",
       "      <td>Accessories</td>\n",
       "      <td>...</td>\n",
       "      <td>Fender Set - Mountain</td>\n",
       "      <td>14</td>\n",
       "      <td>8</td>\n",
       "      <td>22.66</td>\n",
       "      <td>165</td>\n",
       "      <td>112</td>\n",
       "      <td>277</td>\n",
       "      <td>6.925</td>\n",
       "      <td>112</td>\n",
       "      <td>277</td>\n",
       "    </tr>\n",
       "    <tr>\n",
       "      <th>31446</th>\n",
       "      <td>2014-04-16</td>\n",
       "      <td>16</td>\n",
       "      <td>April</td>\n",
       "      <td>2014</td>\n",
       "      <td>40</td>\n",
       "      <td>Adults (35-64)</td>\n",
       "      <td>M</td>\n",
       "      <td>United States</td>\n",
       "      <td>Kentucky</td>\n",
       "      <td>Accessories</td>\n",
       "      <td>...</td>\n",
       "      <td>Sport-100 Helmet, Blue</td>\n",
       "      <td>29</td>\n",
       "      <td>13</td>\n",
       "      <td>36.05</td>\n",
       "      <td>537</td>\n",
       "      <td>377</td>\n",
       "      <td>914</td>\n",
       "      <td>22.850</td>\n",
       "      <td>377</td>\n",
       "      <td>914</td>\n",
       "    </tr>\n",
       "    <tr>\n",
       "      <th>31447</th>\n",
       "      <td>2016-04-16</td>\n",
       "      <td>16</td>\n",
       "      <td>April</td>\n",
       "      <td>2016</td>\n",
       "      <td>40</td>\n",
       "      <td>Adults (35-64)</td>\n",
       "      <td>M</td>\n",
       "      <td>United States</td>\n",
       "      <td>Kentucky</td>\n",
       "      <td>Accessories</td>\n",
       "      <td>...</td>\n",
       "      <td>Sport-100 Helmet, Blue</td>\n",
       "      <td>31</td>\n",
       "      <td>13</td>\n",
       "      <td>36.05</td>\n",
       "      <td>574</td>\n",
       "      <td>403</td>\n",
       "      <td>977</td>\n",
       "      <td>24.425</td>\n",
       "      <td>403</td>\n",
       "      <td>977</td>\n",
       "    </tr>\n",
       "    <tr>\n",
       "      <th>79670</th>\n",
       "      <td>2014-04-16</td>\n",
       "      <td>16</td>\n",
       "      <td>April</td>\n",
       "      <td>2014</td>\n",
       "      <td>40</td>\n",
       "      <td>Adults (35-64)</td>\n",
       "      <td>M</td>\n",
       "      <td>United States</td>\n",
       "      <td>Kentucky</td>\n",
       "      <td>Accessories</td>\n",
       "      <td>...</td>\n",
       "      <td>ML Mountain Tire</td>\n",
       "      <td>2</td>\n",
       "      <td>11</td>\n",
       "      <td>30.90</td>\n",
       "      <td>32</td>\n",
       "      <td>22</td>\n",
       "      <td>54</td>\n",
       "      <td>1.350</td>\n",
       "      <td>22</td>\n",
       "      <td>54</td>\n",
       "    </tr>\n",
       "    <tr>\n",
       "      <th>79671</th>\n",
       "      <td>2014-04-16</td>\n",
       "      <td>16</td>\n",
       "      <td>April</td>\n",
       "      <td>2014</td>\n",
       "      <td>40</td>\n",
       "      <td>Adults (35-64)</td>\n",
       "      <td>M</td>\n",
       "      <td>United States</td>\n",
       "      <td>Kentucky</td>\n",
       "      <td>Accessories</td>\n",
       "      <td>...</td>\n",
       "      <td>ML Mountain Tire</td>\n",
       "      <td>21</td>\n",
       "      <td>11</td>\n",
       "      <td>30.90</td>\n",
       "      <td>336</td>\n",
       "      <td>231</td>\n",
       "      <td>567</td>\n",
       "      <td>14.175</td>\n",
       "      <td>231</td>\n",
       "      <td>567</td>\n",
       "    </tr>\n",
       "    <tr>\n",
       "      <th>79672</th>\n",
       "      <td>2016-04-16</td>\n",
       "      <td>16</td>\n",
       "      <td>April</td>\n",
       "      <td>2016</td>\n",
       "      <td>40</td>\n",
       "      <td>Adults (35-64)</td>\n",
       "      <td>M</td>\n",
       "      <td>United States</td>\n",
       "      <td>Kentucky</td>\n",
       "      <td>Accessories</td>\n",
       "      <td>...</td>\n",
       "      <td>ML Mountain Tire</td>\n",
       "      <td>1</td>\n",
       "      <td>11</td>\n",
       "      <td>30.90</td>\n",
       "      <td>16</td>\n",
       "      <td>11</td>\n",
       "      <td>27</td>\n",
       "      <td>0.675</td>\n",
       "      <td>11</td>\n",
       "      <td>27</td>\n",
       "    </tr>\n",
       "    <tr>\n",
       "      <th>79673</th>\n",
       "      <td>2016-04-16</td>\n",
       "      <td>16</td>\n",
       "      <td>April</td>\n",
       "      <td>2016</td>\n",
       "      <td>40</td>\n",
       "      <td>Adults (35-64)</td>\n",
       "      <td>M</td>\n",
       "      <td>United States</td>\n",
       "      <td>Kentucky</td>\n",
       "      <td>Accessories</td>\n",
       "      <td>...</td>\n",
       "      <td>ML Mountain Tire</td>\n",
       "      <td>18</td>\n",
       "      <td>11</td>\n",
       "      <td>30.90</td>\n",
       "      <td>288</td>\n",
       "      <td>198</td>\n",
       "      <td>486</td>\n",
       "      <td>12.150</td>\n",
       "      <td>198</td>\n",
       "      <td>486</td>\n",
       "    </tr>\n",
       "  </tbody>\n",
       "</table>\n",
       "<p>10 rows × 21 columns</p>\n",
       "</div>"
      ],
      "text/plain": [
       "            Date  Day     Month  Year  Customer_Age       Age_Group  \\\n",
       "156   2013-11-04    4  November  2013            40  Adults (35-64)   \n",
       "157   2015-11-04    4  November  2015            40  Adults (35-64)   \n",
       "23826 2014-04-16   16     April  2014            40  Adults (35-64)   \n",
       "23827 2016-04-16   16     April  2016            40  Adults (35-64)   \n",
       "31446 2014-04-16   16     April  2014            40  Adults (35-64)   \n",
       "31447 2016-04-16   16     April  2016            40  Adults (35-64)   \n",
       "79670 2014-04-16   16     April  2014            40  Adults (35-64)   \n",
       "79671 2014-04-16   16     April  2014            40  Adults (35-64)   \n",
       "79672 2016-04-16   16     April  2016            40  Adults (35-64)   \n",
       "79673 2016-04-16   16     April  2016            40  Adults (35-64)   \n",
       "\n",
       "      Customer_Gender        Country     State Product_Category  ...  \\\n",
       "156                 M  United States  Kentucky      Accessories  ...   \n",
       "157                 M  United States  Kentucky      Accessories  ...   \n",
       "23826               M  United States  Kentucky      Accessories  ...   \n",
       "23827               M  United States  Kentucky      Accessories  ...   \n",
       "31446               M  United States  Kentucky      Accessories  ...   \n",
       "31447               M  United States  Kentucky      Accessories  ...   \n",
       "79670               M  United States  Kentucky      Accessories  ...   \n",
       "79671               M  United States  Kentucky      Accessories  ...   \n",
       "79672               M  United States  Kentucky      Accessories  ...   \n",
       "79673               M  United States  Kentucky      Accessories  ...   \n",
       "\n",
       "                      Product Order_Quantity  Unit_Cost  Unit_Price  Profit  \\\n",
       "156       Hitch Rack - 4-Bike              1         45      123.60      63   \n",
       "157       Hitch Rack - 4-Bike              1         45      123.60      63   \n",
       "23826   Fender Set - Mountain             12          8       22.66     142   \n",
       "23827   Fender Set - Mountain             14          8       22.66     165   \n",
       "31446  Sport-100 Helmet, Blue             29         13       36.05     537   \n",
       "31447  Sport-100 Helmet, Blue             31         13       36.05     574   \n",
       "79670        ML Mountain Tire              2         11       30.90      32   \n",
       "79671        ML Mountain Tire             21         11       30.90     336   \n",
       "79672        ML Mountain Tire              1         11       30.90      16   \n",
       "79673        ML Mountain Tire             18         11       30.90     288   \n",
       "\n",
       "       Cost  Revenue  Revenue_per_Age  Calculated_Cost  Calculated_Revenue  \n",
       "156      45      108            2.700               45                 108  \n",
       "157      45      108            2.700               45                 108  \n",
       "23826    96      238            5.950               96                 238  \n",
       "23827   112      277            6.925              112                 277  \n",
       "31446   377      914           22.850              377                 914  \n",
       "31447   403      977           24.425              403                 977  \n",
       "79670    22       54            1.350               22                  54  \n",
       "79671   231      567           14.175              231                 567  \n",
       "79672    11       27            0.675               11                  27  \n",
       "79673   198      486           12.150              198                 486  \n",
       "\n",
       "[10 rows x 21 columns]"
      ]
     },
     "execution_count": 101,
     "metadata": {},
     "output_type": "execute_result"
    }
   ],
   "source": [
    "#Return all sales made in the state of Kentucky\n",
    "sales.loc[sales['State'] == 'Kentucky']"
   ]
  },
  {
   "cell_type": "code",
   "execution_count": 102,
   "id": "4b190aa7",
   "metadata": {},
   "outputs": [
    {
     "data": {
      "text/plain": [
       "762.8287654055604"
      ]
     },
     "execution_count": 102,
     "metadata": {},
     "output_type": "execute_result"
    }
   ],
   "source": [
    "#the mean revenue of the Adults (35-64) sales group\n",
    "sales.loc[sales['Age_Group']== 'Adults (35-64)','Revenue'].mean()"
   ]
  },
  {
   "cell_type": "code",
   "execution_count": 103,
   "id": "623b3561",
   "metadata": {},
   "outputs": [
    {
     "data": {
      "text/html": [
       "<div>\n",
       "<style scoped>\n",
       "    .dataframe tbody tr th:only-of-type {\n",
       "        vertical-align: middle;\n",
       "    }\n",
       "\n",
       "    .dataframe tbody tr th {\n",
       "        vertical-align: top;\n",
       "    }\n",
       "\n",
       "    .dataframe thead th {\n",
       "        text-align: right;\n",
       "    }\n",
       "</style>\n",
       "<table border=\"1\" class=\"dataframe\">\n",
       "  <thead>\n",
       "    <tr style=\"text-align: right;\">\n",
       "      <th></th>\n",
       "      <th>Date</th>\n",
       "      <th>Day</th>\n",
       "      <th>Month</th>\n",
       "      <th>Year</th>\n",
       "      <th>Customer_Age</th>\n",
       "      <th>Age_Group</th>\n",
       "      <th>Customer_Gender</th>\n",
       "      <th>Country</th>\n",
       "      <th>State</th>\n",
       "      <th>Product_Category</th>\n",
       "      <th>...</th>\n",
       "      <th>Product</th>\n",
       "      <th>Order_Quantity</th>\n",
       "      <th>Unit_Cost</th>\n",
       "      <th>Unit_Price</th>\n",
       "      <th>Profit</th>\n",
       "      <th>Cost</th>\n",
       "      <th>Revenue</th>\n",
       "      <th>Revenue_per_Age</th>\n",
       "      <th>Calculated_Cost</th>\n",
       "      <th>Calculated_Revenue</th>\n",
       "    </tr>\n",
       "  </thead>\n",
       "  <tbody>\n",
       "    <tr>\n",
       "      <th>0</th>\n",
       "      <td>2013-11-26</td>\n",
       "      <td>26</td>\n",
       "      <td>November</td>\n",
       "      <td>2013</td>\n",
       "      <td>19</td>\n",
       "      <td>Youth (&lt;25)</td>\n",
       "      <td>M</td>\n",
       "      <td>Canada</td>\n",
       "      <td>British Columbia</td>\n",
       "      <td>Accessories</td>\n",
       "      <td>...</td>\n",
       "      <td>Hitch Rack - 4-Bike</td>\n",
       "      <td>8</td>\n",
       "      <td>45</td>\n",
       "      <td>123.60</td>\n",
       "      <td>590</td>\n",
       "      <td>360</td>\n",
       "      <td>950</td>\n",
       "      <td>50.000000</td>\n",
       "      <td>360</td>\n",
       "      <td>950</td>\n",
       "    </tr>\n",
       "    <tr>\n",
       "      <th>1</th>\n",
       "      <td>2015-11-26</td>\n",
       "      <td>26</td>\n",
       "      <td>November</td>\n",
       "      <td>2015</td>\n",
       "      <td>19</td>\n",
       "      <td>Youth (&lt;25)</td>\n",
       "      <td>M</td>\n",
       "      <td>Canada</td>\n",
       "      <td>British Columbia</td>\n",
       "      <td>Accessories</td>\n",
       "      <td>...</td>\n",
       "      <td>Hitch Rack - 4-Bike</td>\n",
       "      <td>8</td>\n",
       "      <td>45</td>\n",
       "      <td>123.60</td>\n",
       "      <td>590</td>\n",
       "      <td>360</td>\n",
       "      <td>950</td>\n",
       "      <td>50.000000</td>\n",
       "      <td>360</td>\n",
       "      <td>950</td>\n",
       "    </tr>\n",
       "    <tr>\n",
       "      <th>2</th>\n",
       "      <td>2014-03-23</td>\n",
       "      <td>23</td>\n",
       "      <td>March</td>\n",
       "      <td>2014</td>\n",
       "      <td>49</td>\n",
       "      <td>Adults (35-64)</td>\n",
       "      <td>M</td>\n",
       "      <td>Australia</td>\n",
       "      <td>New South Wales</td>\n",
       "      <td>Accessories</td>\n",
       "      <td>...</td>\n",
       "      <td>Hitch Rack - 4-Bike</td>\n",
       "      <td>23</td>\n",
       "      <td>45</td>\n",
       "      <td>123.60</td>\n",
       "      <td>1366</td>\n",
       "      <td>1035</td>\n",
       "      <td>2401</td>\n",
       "      <td>49.000000</td>\n",
       "      <td>1035</td>\n",
       "      <td>2401</td>\n",
       "    </tr>\n",
       "    <tr>\n",
       "      <th>3</th>\n",
       "      <td>2016-03-23</td>\n",
       "      <td>23</td>\n",
       "      <td>March</td>\n",
       "      <td>2016</td>\n",
       "      <td>49</td>\n",
       "      <td>Adults (35-64)</td>\n",
       "      <td>M</td>\n",
       "      <td>Australia</td>\n",
       "      <td>New South Wales</td>\n",
       "      <td>Accessories</td>\n",
       "      <td>...</td>\n",
       "      <td>Hitch Rack - 4-Bike</td>\n",
       "      <td>20</td>\n",
       "      <td>45</td>\n",
       "      <td>123.60</td>\n",
       "      <td>1188</td>\n",
       "      <td>900</td>\n",
       "      <td>2088</td>\n",
       "      <td>42.612245</td>\n",
       "      <td>900</td>\n",
       "      <td>2088</td>\n",
       "    </tr>\n",
       "    <tr>\n",
       "      <th>4</th>\n",
       "      <td>2014-05-15</td>\n",
       "      <td>15</td>\n",
       "      <td>May</td>\n",
       "      <td>2014</td>\n",
       "      <td>47</td>\n",
       "      <td>Adults (35-64)</td>\n",
       "      <td>F</td>\n",
       "      <td>Australia</td>\n",
       "      <td>New South Wales</td>\n",
       "      <td>Accessories</td>\n",
       "      <td>...</td>\n",
       "      <td>Hitch Rack - 4-Bike</td>\n",
       "      <td>4</td>\n",
       "      <td>45</td>\n",
       "      <td>123.60</td>\n",
       "      <td>238</td>\n",
       "      <td>180</td>\n",
       "      <td>418</td>\n",
       "      <td>8.893617</td>\n",
       "      <td>180</td>\n",
       "      <td>418</td>\n",
       "    </tr>\n",
       "    <tr>\n",
       "      <th>...</th>\n",
       "      <td>...</td>\n",
       "      <td>...</td>\n",
       "      <td>...</td>\n",
       "      <td>...</td>\n",
       "      <td>...</td>\n",
       "      <td>...</td>\n",
       "      <td>...</td>\n",
       "      <td>...</td>\n",
       "      <td>...</td>\n",
       "      <td>...</td>\n",
       "      <td>...</td>\n",
       "      <td>...</td>\n",
       "      <td>...</td>\n",
       "      <td>...</td>\n",
       "      <td>...</td>\n",
       "      <td>...</td>\n",
       "      <td>...</td>\n",
       "      <td>...</td>\n",
       "      <td>...</td>\n",
       "      <td>...</td>\n",
       "      <td>...</td>\n",
       "    </tr>\n",
       "    <tr>\n",
       "      <th>113031</th>\n",
       "      <td>2016-04-12</td>\n",
       "      <td>12</td>\n",
       "      <td>April</td>\n",
       "      <td>2016</td>\n",
       "      <td>41</td>\n",
       "      <td>Adults (35-64)</td>\n",
       "      <td>M</td>\n",
       "      <td>United Kingdom</td>\n",
       "      <td>England</td>\n",
       "      <td>Clothing</td>\n",
       "      <td>...</td>\n",
       "      <td>Classic Vest, S</td>\n",
       "      <td>3</td>\n",
       "      <td>24</td>\n",
       "      <td>65.92</td>\n",
       "      <td>112</td>\n",
       "      <td>72</td>\n",
       "      <td>184</td>\n",
       "      <td>4.487805</td>\n",
       "      <td>72</td>\n",
       "      <td>184</td>\n",
       "    </tr>\n",
       "    <tr>\n",
       "      <th>113032</th>\n",
       "      <td>2014-04-02</td>\n",
       "      <td>2</td>\n",
       "      <td>April</td>\n",
       "      <td>2014</td>\n",
       "      <td>18</td>\n",
       "      <td>Youth (&lt;25)</td>\n",
       "      <td>M</td>\n",
       "      <td>Australia</td>\n",
       "      <td>Queensland</td>\n",
       "      <td>Clothing</td>\n",
       "      <td>...</td>\n",
       "      <td>Classic Vest, M</td>\n",
       "      <td>22</td>\n",
       "      <td>24</td>\n",
       "      <td>65.92</td>\n",
       "      <td>655</td>\n",
       "      <td>528</td>\n",
       "      <td>1183</td>\n",
       "      <td>65.722222</td>\n",
       "      <td>528</td>\n",
       "      <td>1183</td>\n",
       "    </tr>\n",
       "    <tr>\n",
       "      <th>113033</th>\n",
       "      <td>2016-04-02</td>\n",
       "      <td>2</td>\n",
       "      <td>April</td>\n",
       "      <td>2016</td>\n",
       "      <td>18</td>\n",
       "      <td>Youth (&lt;25)</td>\n",
       "      <td>M</td>\n",
       "      <td>Australia</td>\n",
       "      <td>Queensland</td>\n",
       "      <td>Clothing</td>\n",
       "      <td>...</td>\n",
       "      <td>Classic Vest, M</td>\n",
       "      <td>22</td>\n",
       "      <td>24</td>\n",
       "      <td>65.92</td>\n",
       "      <td>655</td>\n",
       "      <td>528</td>\n",
       "      <td>1183</td>\n",
       "      <td>65.722222</td>\n",
       "      <td>528</td>\n",
       "      <td>1183</td>\n",
       "    </tr>\n",
       "    <tr>\n",
       "      <th>113034</th>\n",
       "      <td>2014-03-04</td>\n",
       "      <td>4</td>\n",
       "      <td>March</td>\n",
       "      <td>2014</td>\n",
       "      <td>37</td>\n",
       "      <td>Adults (35-64)</td>\n",
       "      <td>F</td>\n",
       "      <td>France</td>\n",
       "      <td>Seine (Paris)</td>\n",
       "      <td>Clothing</td>\n",
       "      <td>...</td>\n",
       "      <td>Classic Vest, L</td>\n",
       "      <td>24</td>\n",
       "      <td>24</td>\n",
       "      <td>65.92</td>\n",
       "      <td>684</td>\n",
       "      <td>576</td>\n",
       "      <td>1260</td>\n",
       "      <td>34.054054</td>\n",
       "      <td>576</td>\n",
       "      <td>1260</td>\n",
       "    </tr>\n",
       "    <tr>\n",
       "      <th>113035</th>\n",
       "      <td>2016-03-04</td>\n",
       "      <td>4</td>\n",
       "      <td>March</td>\n",
       "      <td>2016</td>\n",
       "      <td>37</td>\n",
       "      <td>Adults (35-64)</td>\n",
       "      <td>F</td>\n",
       "      <td>France</td>\n",
       "      <td>Seine (Paris)</td>\n",
       "      <td>Clothing</td>\n",
       "      <td>...</td>\n",
       "      <td>Classic Vest, L</td>\n",
       "      <td>23</td>\n",
       "      <td>24</td>\n",
       "      <td>65.92</td>\n",
       "      <td>655</td>\n",
       "      <td>552</td>\n",
       "      <td>1207</td>\n",
       "      <td>32.621622</td>\n",
       "      <td>552</td>\n",
       "      <td>1207</td>\n",
       "    </tr>\n",
       "  </tbody>\n",
       "</table>\n",
       "<p>73652 rows × 21 columns</p>\n",
       "</div>"
      ],
      "text/plain": [
       "             Date  Day     Month  Year  Customer_Age       Age_Group  \\\n",
       "0      2013-11-26   26  November  2013            19     Youth (<25)   \n",
       "1      2015-11-26   26  November  2015            19     Youth (<25)   \n",
       "2      2014-03-23   23     March  2014            49  Adults (35-64)   \n",
       "3      2016-03-23   23     March  2016            49  Adults (35-64)   \n",
       "4      2014-05-15   15       May  2014            47  Adults (35-64)   \n",
       "...           ...  ...       ...   ...           ...             ...   \n",
       "113031 2016-04-12   12     April  2016            41  Adults (35-64)   \n",
       "113032 2014-04-02    2     April  2014            18     Youth (<25)   \n",
       "113033 2016-04-02    2     April  2016            18     Youth (<25)   \n",
       "113034 2014-03-04    4     March  2014            37  Adults (35-64)   \n",
       "113035 2016-03-04    4     March  2016            37  Adults (35-64)   \n",
       "\n",
       "       Customer_Gender         Country             State Product_Category  \\\n",
       "0                    M          Canada  British Columbia      Accessories   \n",
       "1                    M          Canada  British Columbia      Accessories   \n",
       "2                    M       Australia   New South Wales      Accessories   \n",
       "3                    M       Australia   New South Wales      Accessories   \n",
       "4                    F       Australia   New South Wales      Accessories   \n",
       "...                ...             ...               ...              ...   \n",
       "113031               M  United Kingdom           England         Clothing   \n",
       "113032               M       Australia        Queensland         Clothing   \n",
       "113033               M       Australia        Queensland         Clothing   \n",
       "113034               F          France     Seine (Paris)         Clothing   \n",
       "113035               F          France     Seine (Paris)         Clothing   \n",
       "\n",
       "        ...              Product Order_Quantity  Unit_Cost  Unit_Price  \\\n",
       "0       ...  Hitch Rack - 4-Bike              8         45      123.60   \n",
       "1       ...  Hitch Rack - 4-Bike              8         45      123.60   \n",
       "2       ...  Hitch Rack - 4-Bike             23         45      123.60   \n",
       "3       ...  Hitch Rack - 4-Bike             20         45      123.60   \n",
       "4       ...  Hitch Rack - 4-Bike              4         45      123.60   \n",
       "...     ...                  ...            ...        ...         ...   \n",
       "113031  ...      Classic Vest, S              3         24       65.92   \n",
       "113032  ...      Classic Vest, M             22         24       65.92   \n",
       "113033  ...      Classic Vest, M             22         24       65.92   \n",
       "113034  ...      Classic Vest, L             24         24       65.92   \n",
       "113035  ...      Classic Vest, L             23         24       65.92   \n",
       "\n",
       "        Profit  Cost  Revenue  Revenue_per_Age  Calculated_Cost  \\\n",
       "0          590   360      950        50.000000              360   \n",
       "1          590   360      950        50.000000              360   \n",
       "2         1366  1035     2401        49.000000             1035   \n",
       "3         1188   900     2088        42.612245              900   \n",
       "4          238   180      418         8.893617              180   \n",
       "...        ...   ...      ...              ...              ...   \n",
       "113031     112    72      184         4.487805               72   \n",
       "113032     655   528     1183        65.722222              528   \n",
       "113033     655   528     1183        65.722222              528   \n",
       "113034     684   576     1260        34.054054              576   \n",
       "113035     655   552     1207        32.621622              552   \n",
       "\n",
       "        Calculated_Revenue  \n",
       "0                      950  \n",
       "1                      950  \n",
       "2                     2401  \n",
       "3                     2088  \n",
       "4                      418  \n",
       "...                    ...  \n",
       "113031                 184  \n",
       "113032                1183  \n",
       "113033                1183  \n",
       "113034                1260  \n",
       "113035                1207  \n",
       "\n",
       "[73652 rows x 21 columns]"
      ]
     },
     "execution_count": 103,
     "metadata": {},
     "output_type": "execute_result"
    }
   ],
   "source": [
    "#return records of Age group Youth(<25) or Adults (35-64)\n",
    "# use'|' for or\n",
    "sales.loc[(sales['Age_Group']== 'Youth (<25)')|(sales['Age_Group']== 'Adults (35-64)')]"
   ]
  },
  {
   "cell_type": "markdown",
   "id": "e87677c2",
   "metadata": {},
   "source": [
    "# Exercise"
   ]
  },
  {
   "cell_type": "code",
   "execution_count": 105,
   "id": "e4b2cde0",
   "metadata": {},
   "outputs": [
    {
     "data": {
      "text/plain": [
       "35.91921157861212"
      ]
     },
     "execution_count": 105,
     "metadata": {},
     "output_type": "execute_result"
    }
   ],
   "source": [
    "#What's the mean of Customer_Age?\n",
    "sales['Customer_Age'].mean()"
   ]
  },
  {
   "cell_type": "code",
   "execution_count": 109,
   "id": "34e13f30",
   "metadata": {},
   "outputs": [
    {
     "data": {
      "text/plain": [
       "<AxesSubplot:ylabel='Density'>"
      ]
     },
     "execution_count": 109,
     "metadata": {},
     "output_type": "execute_result"
    },
    {
     "data": {
      "image/png": "[encoded data removed]",
      "text/plain": [
       "<Figure size 432x432 with 1 Axes>"
      ]
     },
     "metadata": {
      "needs_background": "light"
     },
     "output_type": "display_data"
    }
   ],
   "source": [
    "#Show a density (KDE) and a box plot with the Customer_Age\n",
    "sales['Customer_Age'].plot(kind='kde', figsize=(6,6))"
   ]
  },
  {
   "cell_type": "code",
   "execution_count": 111,
   "id": "dd9027d5",
   "metadata": {},
   "outputs": [
    {
     "data": {
      "text/plain": [
       "<AxesSubplot:>"
      ]
     },
     "execution_count": 111,
     "metadata": {},
     "output_type": "execute_result"
    },
    {
     "data": {
      "image/png": "[encoded data removed]",
      "text/plain": [
       "<Figure size 432x216 with 1 Axes>"
      ]
     },
     "metadata": {
      "needs_background": "light"
     },
     "output_type": "display_data"
    }
   ],
   "source": [
    "sales['Customer_Age'].plot(kind='box', figsize=(6,3))"
   ]
  },
  {
   "cell_type": "code",
   "execution_count": 112,
   "id": "870e51ed",
   "metadata": {},
   "outputs": [
    {
     "data": {
      "text/plain": [
       "11.901659648253654"
      ]
     },
     "execution_count": 112,
     "metadata": {},
     "output_type": "execute_result"
    }
   ],
   "source": [
    "#What's the mean of Order_Quantity?\n",
    "sales['Order_Quantity'].mean()"
   ]
  },
  {
   "cell_type": "code",
   "execution_count": 113,
   "id": "09ee0e09",
   "metadata": {},
   "outputs": [
    {
     "data": {
      "text/plain": [
       "<AxesSubplot:ylabel='Frequency'>"
      ]
     },
     "execution_count": 113,
     "metadata": {},
     "output_type": "execute_result"
    },
    {
     "data": {
      "image/png": "[encoded data removed]",
      "text/plain": [
       "<Figure size 432x432 with 1 Axes>"
      ]
     },
     "metadata": {
      "needs_background": "light"
     },
     "output_type": "display_data"
    }
   ],
   "source": [
    "#Show a histogram and a box plot with the Order_Quantity\n",
    "sales['Order_Quantity'].plot(kind='hist', figsize = (6,6))"
   ]
  },
  {
   "cell_type": "code",
   "execution_count": 114,
   "id": "b5aba726",
   "metadata": {},
   "outputs": [
    {
     "data": {
      "text/plain": [
       "2014    29398\n",
       "2016    29398\n",
       "2013    24443\n",
       "2015    24443\n",
       "2012     2677\n",
       "2011     2677\n",
       "Name: Year, dtype: int64"
      ]
     },
     "execution_count": 114,
     "metadata": {},
     "output_type": "execute_result"
    }
   ],
   "source": [
    "#How many \"sales per year\" do we have?\n",
    "sales['Year'].value_counts()"
   ]
  },
  {
   "cell_type": "code",
   "execution_count": 115,
   "id": "eb267ed7",
   "metadata": {},
   "outputs": [
    {
     "data": {
      "text/plain": [
       "<AxesSubplot:ylabel='Year'>"
      ]
     },
     "execution_count": 115,
     "metadata": {},
     "output_type": "execute_result"
    },
    {
     "data": {
      "image/png": "[encoded data removed]",
      "text/plain": [
       "<Figure size 360x360 with 1 Axes>"
      ]
     },
     "metadata": {},
     "output_type": "display_data"
    }
   ],
   "source": [
    "#show a pie plot with the previous data\n",
    "sales['Year'].value_counts().plot(kind='pie', figsize = (5,5))"
   ]
  },
  {
   "cell_type": "code",
   "execution_count": 116,
   "id": "dc2db507",
   "metadata": {},
   "outputs": [
    {
     "data": {
      "text/plain": [
       "June         11234\n",
       "December     11200\n",
       "May          11128\n",
       "April        10182\n",
       "March         9674\n",
       "January       9284\n",
       "February      9022\n",
       "October       8750\n",
       "November      8734\n",
       "August        8200\n",
       "September     8166\n",
       "July          7462\n",
       "Name: Month, dtype: int64"
      ]
     },
     "execution_count": 116,
     "metadata": {},
     "output_type": "execute_result"
    }
   ],
   "source": [
    "#How many sales per month do we have?\n",
    "sales['Month'].value_counts()"
   ]
  },
  {
   "cell_type": "code",
   "execution_count": 120,
   "id": "89482ead",
   "metadata": {},
   "outputs": [
    {
     "data": {
      "text/plain": [
       "<AxesSubplot:>"
      ]
     },
     "execution_count": 120,
     "metadata": {},
     "output_type": "execute_result"
    },
    {
     "data": {
      "image/png": "[encoded data removed]",
      "text/plain": [
       "<Figure size 360x216 with 1 Axes>"
      ]
     },
     "metadata": {
      "needs_background": "light"
     },
     "output_type": "display_data"
    }
   ],
   "source": [
    "#show a bar plot with the previous data\n",
    "sales['Month'].value_counts().plot(kind='bar', figsize = (5,3))"
   ]
  },
  {
   "cell_type": "code",
   "execution_count": 122,
   "id": "95d08e83",
   "metadata": {},
   "outputs": [
    {
     "data": {
      "text/plain": [
       "United States     39206\n",
       "Australia         23936\n",
       "Canada            14178\n",
       "United Kingdom    13620\n",
       "Germany           11098\n",
       "France            10998\n",
       "Name: Country, dtype: int64"
      ]
     },
     "execution_count": 122,
     "metadata": {},
     "output_type": "execute_result"
    }
   ],
   "source": [
    "#Which country has the most sales quantity of sales?\n",
    "sales['Country'].value_counts()"
   ]
  },
  {
   "cell_type": "code",
   "execution_count": 123,
   "id": "edf2f75b",
   "metadata": {},
   "outputs": [
    {
     "data": {
      "text/plain": [
       "<AxesSubplot:>"
      ]
     },
     "execution_count": 123,
     "metadata": {},
     "output_type": "execute_result"
    },
    {
     "data": {
      "image/png": "[encoded data removed]",
      "text/plain": [
       "<Figure size 432x288 with 1 Axes>"
      ]
     },
     "metadata": {
      "needs_background": "light"
     },
     "output_type": "display_data"
    }
   ],
   "source": [
    "#show a bar plot of the sales per country\n",
    "sales['Country'].value_counts().plot(kind='bar')"
   ]
  },
  {
   "cell_type": "code",
   "execution_count": 124,
   "id": "a9891095",
   "metadata": {},
   "outputs": [
    {
     "data": {
      "text/plain": [
       "array(['Hitch Rack - 4-Bike', 'All-Purpose Bike Stand',\n",
       "       'Mountain Bottle Cage', 'Water Bottle - 30 oz.',\n",
       "       'Road Bottle Cage', 'AWC Logo Cap', 'Bike Wash - Dissolver',\n",
       "       'Fender Set - Mountain', 'Half-Finger Gloves, L',\n",
       "       'Half-Finger Gloves, M', 'Half-Finger Gloves, S',\n",
       "       'Sport-100 Helmet, Black', 'Sport-100 Helmet, Red',\n",
       "       'Sport-100 Helmet, Blue', 'Hydration Pack - 70 oz.',\n",
       "       'Short-Sleeve Classic Jersey, XL',\n",
       "       'Short-Sleeve Classic Jersey, L', 'Short-Sleeve Classic Jersey, M',\n",
       "       'Short-Sleeve Classic Jersey, S', 'Long-Sleeve Logo Jersey, M',\n",
       "       'Long-Sleeve Logo Jersey, XL', 'Long-Sleeve Logo Jersey, L',\n",
       "       'Long-Sleeve Logo Jersey, S', 'Mountain-100 Silver, 38',\n",
       "       'Mountain-100 Silver, 44', 'Mountain-100 Black, 48',\n",
       "       'Mountain-100 Silver, 48', 'Mountain-100 Black, 38',\n",
       "       'Mountain-200 Silver, 38', 'Mountain-100 Black, 44',\n",
       "       'Mountain-100 Silver, 42', 'Mountain-200 Black, 46',\n",
       "       'Mountain-200 Silver, 42', 'Mountain-200 Silver, 46',\n",
       "       'Mountain-200 Black, 38', 'Mountain-100 Black, 42',\n",
       "       'Mountain-200 Black, 42', 'Mountain-400-W Silver, 46',\n",
       "       'Mountain-500 Silver, 40', 'Mountain-500 Silver, 44',\n",
       "       'Mountain-500 Black, 48', 'Mountain-500 Black, 40',\n",
       "       'Mountain-400-W Silver, 42', 'Mountain-500 Silver, 52',\n",
       "       'Mountain-500 Black, 52', 'Mountain-500 Silver, 42',\n",
       "       'Mountain-500 Black, 44', 'Mountain-500 Silver, 48',\n",
       "       'Mountain-400-W Silver, 38', 'Mountain-400-W Silver, 40',\n",
       "       'Mountain-500 Black, 42', 'Road-150 Red, 48', 'Road-150 Red, 62',\n",
       "       'Road-750 Black, 48', 'Road-750 Black, 58', 'Road-750 Black, 52',\n",
       "       'Road-150 Red, 52', 'Road-150 Red, 44', 'Road-150 Red, 56',\n",
       "       'Road-750 Black, 44', 'Road-350-W Yellow, 40',\n",
       "       'Road-350-W Yellow, 42', 'Road-250 Black, 44',\n",
       "       'Road-250 Black, 48', 'Road-350-W Yellow, 48',\n",
       "       'Road-550-W Yellow, 44', 'Road-550-W Yellow, 38',\n",
       "       'Road-250 Black, 52', 'Road-550-W Yellow, 48', 'Road-250 Red, 58',\n",
       "       'Road-250 Black, 58', 'Road-250 Red, 52', 'Road-250 Red, 48',\n",
       "       'Road-250 Red, 44', 'Road-550-W Yellow, 42',\n",
       "       'Road-550-W Yellow, 40', 'Road-650 Red, 48', 'Road-650 Red, 60',\n",
       "       'Road-650 Black, 48', 'Road-350-W Yellow, 44', 'Road-650 Red, 52',\n",
       "       'Road-650 Black, 44', 'Road-650 Red, 62', 'Road-650 Red, 58',\n",
       "       'Road-650 Black, 60', 'Road-650 Black, 58', 'Road-650 Black, 52',\n",
       "       'Road-650 Black, 62', 'Road-650 Red, 44',\n",
       "       \"Women's Mountain Shorts, M\", \"Women's Mountain Shorts, S\",\n",
       "       \"Women's Mountain Shorts, L\", 'Racing Socks, L', 'Racing Socks, M',\n",
       "       'Mountain Tire Tube', 'Touring Tire Tube', 'Patch Kit/8 Patches',\n",
       "       'HL Mountain Tire', 'LL Mountain Tire', 'Road Tire Tube',\n",
       "       'LL Road Tire', 'Touring Tire', 'ML Mountain Tire', 'HL Road Tire',\n",
       "       'ML Road Tire', 'Touring-1000 Yellow, 50', 'Touring-1000 Blue, 46',\n",
       "       'Touring-1000 Yellow, 60', 'Touring-1000 Blue, 50',\n",
       "       'Touring-3000 Yellow, 50', 'Touring-3000 Blue, 54',\n",
       "       'Touring-3000 Blue, 58', 'Touring-3000 Yellow, 44',\n",
       "       'Touring-3000 Yellow, 54', 'Touring-3000 Blue, 62',\n",
       "       'Touring-3000 Blue, 44', 'Touring-1000 Blue, 54',\n",
       "       'Touring-1000 Yellow, 46', 'Touring-1000 Blue, 60',\n",
       "       'Touring-3000 Yellow, 62', 'Touring-1000 Yellow, 54',\n",
       "       'Touring-2000 Blue, 54', 'Touring-3000 Blue, 50',\n",
       "       'Touring-3000 Yellow, 58', 'Touring-2000 Blue, 46',\n",
       "       'Touring-2000 Blue, 50', 'Touring-2000 Blue, 60',\n",
       "       'Classic Vest, L', 'Classic Vest, M', 'Classic Vest, S'],\n",
       "      dtype=object)"
      ]
     },
     "execution_count": 124,
     "metadata": {},
     "output_type": "execute_result"
    }
   ],
   "source": [
    "#Create a list of every product sold\n",
    "sales['Product'].unique()"
   ]
  },
  {
   "cell_type": "code",
   "execution_count": 127,
   "id": "928f8012",
   "metadata": {},
   "outputs": [
    {
     "data": {
      "text/plain": [
       "<AxesSubplot:>"
      ]
     },
     "execution_count": 127,
     "metadata": {},
     "output_type": "execute_result"
    },
    {
     "data": {
      "image/png": "[encoded data removed]",
      "text/plain": [
       "<Figure size 432x288 with 1 Axes>"
      ]
     },
     "metadata": {
      "needs_background": "light"
     },
     "output_type": "display_data"
    }
   ],
   "source": [
    "#Create a bar plot showing the 10 most sold products (best sellers):\n",
    "sales['Product'].value_counts(ascending=False).head(10).plot(kind='bar')"
   ]
  },
  {
   "cell_type": "code",
   "execution_count": 129,
   "id": "ddc4e271",
   "metadata": {},
   "outputs": [
    {
     "data": {
      "text/plain": [
       "<AxesSubplot:xlabel='Unit_Cost', ylabel='Unit_Price'>"
      ]
     },
     "execution_count": 129,
     "metadata": {},
     "output_type": "execute_result"
    },
    {
     "data": {
      "image/png": "[encoded data removed]",
      "text/plain": [
       "<Figure size 432x288 with 1 Axes>"
      ]
     },
     "metadata": {
      "needs_background": "light"
     },
     "output_type": "display_data"
    }
   ],
   "source": [
    "#Can you see any relationship between Unit_Cost and Unit_Price?\n",
    "##Show a scatter plot between both columns.\n",
    "sales.plot(kind = 'scatter', x = 'Unit_Cost', y = 'Unit_Price')"
   ]
  },
  {
   "cell_type": "code",
   "execution_count": 130,
   "id": "40f2c6b0",
   "metadata": {},
   "outputs": [
    {
     "data": {
      "text/plain": [
       "<AxesSubplot:xlabel='Order_Quantity', ylabel='Profit'>"
      ]
     },
     "execution_count": 130,
     "metadata": {},
     "output_type": "execute_result"
    },
    {
     "data": {
      "image/png": "[encoded data removed]",
      "text/plain": [
       "<Figure size 432x288 with 1 Axes>"
      ]
     },
     "metadata": {
      "needs_background": "light"
     },
     "output_type": "display_data"
    }
   ],
   "source": [
    "#Can you see any relationship between Order_Quantity and Profit?\n",
    "##Show a scatter plot between both columns.\n",
    "sales.plot(kind = 'scatter', x = 'Order_Quantity', y = 'Profit')"
   ]
  },
  {
   "cell_type": "code",
   "execution_count": 131,
   "id": "75be3b9d",
   "metadata": {},
   "outputs": [
    {
     "data": {
      "text/plain": [
       "<AxesSubplot:title={'center':'Profit'}, xlabel='[Country]'>"
      ]
     },
     "execution_count": 131,
     "metadata": {},
     "output_type": "execute_result"
    },
    {
     "data": {
      "image/png": "[encoded data removed]",
      "text/plain": [
       "<Figure size 432x288 with 1 Axes>"
      ]
     },
     "metadata": {
      "needs_background": "light"
     },
     "output_type": "display_data"
    }
   ],
   "source": [
    "#Can you see any relationship between Profit per Country?\n",
    "##Show a grouped box plot per country with the profit values.\n",
    "sales[['Profit','Country']].boxplot(by='Country')\n",
    "#Box plot group by use by='column'\n",
    "#Note: use double brackets if u select more than one column"
   ]
  },
  {
   "cell_type": "code",
   "execution_count": 137,
   "id": "cf536008",
   "metadata": {},
   "outputs": [
    {
     "data": {
      "text/plain": [
       "<AxesSubplot:title={'center':'Customer_Age'}, xlabel='[Country]'>"
      ]
     },
     "execution_count": 137,
     "metadata": {},
     "output_type": "execute_result"
    },
    {
     "data": {
      "image/png": "[encoded data removed]",
      "text/plain": [
       "<Figure size 576x432 with 1 Axes>"
      ]
     },
     "metadata": {
      "needs_background": "light"
     },
     "output_type": "display_data"
    }
   ],
   "source": [
    "#Can you see any relationship between the Customer_Age per Country?\n",
    "##Show a grouped box plot per country with the customer age values.\n",
    "sales[['Customer_Age', 'Country']].boxplot(by='Country', figsize = (8,6))"
   ]
  },
  {
   "cell_type": "code",
   "execution_count": 147,
   "id": "9a7fee78",
   "metadata": {},
   "outputs": [
    {
     "data": {
      "text/plain": [
       "0    2013-November-26\n",
       "1    2015-November-26\n",
       "2       2014-March-23\n",
       "3       2016-March-23\n",
       "4         2014-May-15\n",
       "Name: Calculated_Date, dtype: object"
      ]
     },
     "execution_count": 147,
     "metadata": {},
     "output_type": "execute_result"
    }
   ],
   "source": [
    "#Add and calculate a new Calculated_Date column\n",
    "##Use Day, Month, Year to create a Date column (YYYY-MM-DD).\n",
    "sales['Calculated_Date'] = sales[['Year', 'Month', 'Day']].apply(lambda x: '{}-{}-{}'.format(x[0], x[1], x[2]), axis=1)\n",
    "#use lambda function when adding str and int\n",
    "sales['Calculated_Date'].head()\n"
   ]
  },
  {
   "cell_type": "code",
   "execution_count": 149,
   "id": "27a763aa",
   "metadata": {},
   "outputs": [
    {
     "data": {
      "text/plain": [
       "0   2013-11-26\n",
       "1   2015-11-26\n",
       "2   2014-03-23\n",
       "3   2016-03-23\n",
       "4   2014-05-15\n",
       "Name: Calculated_Date, dtype: datetime64[ns]"
      ]
     },
     "execution_count": 149,
     "metadata": {},
     "output_type": "execute_result"
    }
   ],
   "source": [
    "#Parse your Calculated_Date column into a datetime object\n",
    "sales['Calculated_Date'] = pd.to_datetime(sales['Calculated_Date'])\n",
    "sales['Calculated_Date'].head()"
   ]
  },
  {
   "cell_type": "code",
   "execution_count": 150,
   "id": "5467c91b",
   "metadata": {},
   "outputs": [
    {
     "data": {
      "text/plain": [
       "<AxesSubplot:>"
      ]
     },
     "execution_count": 150,
     "metadata": {},
     "output_type": "execute_result"
    },
    {
     "data": {
      "image/png": "[encoded data removed]",
      "text/plain": [
       "<Figure size 1008x432 with 1 Axes>"
      ]
     },
     "metadata": {
      "needs_background": "light"
     },
     "output_type": "display_data"
    }
   ],
   "source": [
    "#How did sales evolve through the years?\n",
    "##Show a line plot using Calculated_Date column as the x-axis and the count of sales as the y-axis.\n",
    "sales['Calculated_Date'].value_counts().plot(kind='line', figsize = (14,6))"
   ]
  },
  {
   "cell_type": "code",
   "execution_count": 152,
   "id": "05fe6232",
   "metadata": {},
   "outputs": [
    {
     "data": {
      "text/plain": [
       "0    1050\n",
       "1    1050\n",
       "2    2501\n",
       "3    2188\n",
       "4     518\n",
       "Name: Revenue, dtype: int64"
      ]
     },
     "execution_count": 152,
     "metadata": {},
     "output_type": "execute_result"
    }
   ],
   "source": [
    "#Increase 50 U$S revenue to every sale\n",
    "sales['Revenue'] += 50\n",
    "sales['Revenue'].head()"
   ]
  },
  {
   "cell_type": "code",
   "execution_count": 157,
   "id": "8d862852",
   "metadata": {},
   "outputs": [
    {
     "data": {
      "text/plain": [
       "25176"
      ]
     },
     "execution_count": 157,
     "metadata": {},
     "output_type": "execute_result"
    }
   ],
   "source": [
    "#How many orders were made in Canada or France?\n",
    "sales.loc[(sales['Country'] == 'Canada') | (sales['Country']=='France')].shape[0]\n",
    "#Note: shape returns (rows and columns), shape[0] only returns no. of rows\n",
    "#Note: shape function doesn't have ()"
   ]
  },
  {
   "cell_type": "code",
   "execution_count": 159,
   "id": "9d1b1b3e",
   "metadata": {},
   "outputs": [
    {
     "data": {
      "text/plain": [
       "104"
      ]
     },
     "execution_count": 159,
     "metadata": {},
     "output_type": "execute_result"
    }
   ],
   "source": [
    "#How many Bike Racks orders were made from Canada?\n",
    "sales.loc[(sales['Country']=='Canada') & (sales['Sub_Category']=='Bike Racks')].shape[0]"
   ]
  },
  {
   "cell_type": "code",
   "execution_count": 161,
   "id": "9400df69",
   "metadata": {},
   "outputs": [
    {
     "data": {
      "text/plain": [
       "Seine (Paris)        2328\n",
       "Seine Saint Denis    1684\n",
       "Nord                 1670\n",
       "Hauts de Seine       1084\n",
       "Essonne               994\n",
       "Yveline               954\n",
       "Seine et Marne        394\n",
       "Moselle               386\n",
       "Loiret                382\n",
       "Val d'Oise            264\n",
       "Garonne (Haute)       208\n",
       "Val de Marne          158\n",
       "Charente-Maritime     148\n",
       "Somme                 134\n",
       "Loir et Cher          120\n",
       "Pas de Calais          90\n",
       "Name: State, dtype: int64"
      ]
     },
     "execution_count": 161,
     "metadata": {},
     "output_type": "execute_result"
    }
   ],
   "source": [
    "#How many orders were made in each region (state) of France?\n",
    "sales.loc[(sales['Country']=='France', 'State')].value_counts()\n",
    "#Note: first return rows of state in which country = France, then use value_counts to return unique number of orders\n",
    "##Go ahead and show a bar plot with the results:\n"
   ]
  },
  {
   "cell_type": "code",
   "execution_count": 162,
   "id": "ee1cec3e",
   "metadata": {},
   "outputs": [
    {
     "data": {
      "text/plain": [
       "<AxesSubplot:>"
      ]
     },
     "execution_count": 162,
     "metadata": {},
     "output_type": "execute_result"
    },
    {
     "data": {
      "image/png": "[encoded data removed]",
      "text/plain": [
       "<Figure size 432x288 with 1 Axes>"
      ]
     },
     "metadata": {
      "needs_background": "light"
     },
     "output_type": "display_data"
    }
   ],
   "source": [
    "sales.loc[(sales['Country']=='France', 'State')].value_counts().plot(kind='bar')"
   ]
  },
  {
   "cell_type": "code",
   "execution_count": 164,
   "id": "af253923",
   "metadata": {},
   "outputs": [
    {
     "data": {
      "text/plain": [
       "Accessories    70120\n",
       "Bikes          25982\n",
       "Clothing       16934\n",
       "Name: Product_Category, dtype: int64"
      ]
     },
     "execution_count": 164,
     "metadata": {},
     "output_type": "execute_result"
    }
   ],
   "source": [
    "#How many sales were made per category?\n",
    "sales['Product_Category'].value_counts()\n",
    "##Go ahead and show a pie plot with the results:"
   ]
  },
  {
   "cell_type": "code",
   "execution_count": 165,
   "id": "9addcaba",
   "metadata": {},
   "outputs": [
    {
     "data": {
      "text/plain": [
       "<AxesSubplot:ylabel='Product_Category'>"
      ]
     },
     "execution_count": 165,
     "metadata": {},
     "output_type": "execute_result"
    },
    {
     "data": {
      "image/png": "[encoded data removed]",
      "text/plain": [
       "<Figure size 432x288 with 1 Axes>"
      ]
     },
     "metadata": {},
     "output_type": "display_data"
    }
   ],
   "source": [
    "sales['Product_Category'].value_counts().plot(kind='pie')"
   ]
  },
  {
   "cell_type": "code",
   "execution_count": 175,
   "id": "433f45a9",
   "metadata": {},
   "outputs": [
    {
     "data": {
      "text/plain": [
       "<AxesSubplot:>"
      ]
     },
     "execution_count": 175,
     "metadata": {},
     "output_type": "execute_result"
    },
    {
     "data": {
      "image/png": "[encoded data removed]",
      "text/plain": [
       "<Figure size 432x288 with 1 Axes>"
      ]
     },
     "metadata": {
      "needs_background": "light"
     },
     "output_type": "display_data"
    }
   ],
   "source": [
    "#How many orders were made per accessory sub-categories?\n",
    "sales.loc[(sales['Product_Category']=='Accessories'),'Sub_Category'].value_counts()\n",
    "##Go ahead and show a bar plot with the results:\n",
    "sales.loc[(sales['Product_Category']=='Accessories'),'Sub_Category'].value_counts().plot(kind='bar')\n"
   ]
  },
  {
   "cell_type": "code",
   "execution_count": 177,
   "id": "fa4631b5",
   "metadata": {},
   "outputs": [
    {
     "data": {
      "text/plain": [
       "Road Bikes        13430\n",
       "Mountain Bikes     8854\n",
       "Touring Bikes      3698\n",
       "Name: Sub_Category, dtype: int64"
      ]
     },
     "execution_count": 177,
     "metadata": {},
     "output_type": "execute_result"
    }
   ],
   "source": [
    "#How many orders were made per bike sub-categories?\n",
    "sales.loc[(sales['Product_Category']=='Bikes'),'Sub_Category'].value_counts()\n",
    "##Go ahead and show a pie plot with the results:"
   ]
  },
  {
   "cell_type": "code",
   "execution_count": 178,
   "id": "c1be1bd6",
   "metadata": {},
   "outputs": [
    {
     "data": {
      "text/plain": [
       "<AxesSubplot:ylabel='Sub_Category'>"
      ]
     },
     "execution_count": 178,
     "metadata": {},
     "output_type": "execute_result"
    },
    {
     "data": {
      "image/png": "[encoded data removed]",
      "text/plain": [
       "<Figure size 432x288 with 1 Axes>"
      ]
     },
     "metadata": {},
     "output_type": "display_data"
    }
   ],
   "source": [
    "sales.loc[(sales['Product_Category']=='Bikes'),'Sub_Category'].value_counts().plot(kind='pie')"
   ]
  },
  {
   "cell_type": "code",
   "execution_count": 179,
   "id": "29637b92",
   "metadata": {},
   "outputs": [
    {
     "data": {
      "text/plain": [
       "M    58312\n",
       "F    54724\n",
       "Name: Customer_Gender, dtype: int64"
      ]
     },
     "execution_count": 179,
     "metadata": {},
     "output_type": "execute_result"
    }
   ],
   "source": [
    "#Which gender has the most amount of sales?\n",
    "sales['Customer_Gender'].value_counts()"
   ]
  },
  {
   "cell_type": "code",
   "execution_count": 183,
   "id": "309255c0",
   "metadata": {},
   "outputs": [
    {
     "data": {
      "text/plain": [
       "24843"
      ]
     },
     "execution_count": 183,
     "metadata": {},
     "output_type": "execute_result"
    }
   ],
   "source": [
    "#How many sales with more than 500 in Revenue were made by men?\n",
    "sales.loc[(sales['Revenue'] > 500) & (sales['Customer_Gender']=='M')].shape[0]"
   ]
  },
  {
   "cell_type": "code",
   "execution_count": 184,
   "id": "33b00541",
   "metadata": {},
   "outputs": [
    {
     "data": {
      "text/html": [
       "<div>\n",
       "<style scoped>\n",
       "    .dataframe tbody tr th:only-of-type {\n",
       "        vertical-align: middle;\n",
       "    }\n",
       "\n",
       "    .dataframe tbody tr th {\n",
       "        vertical-align: top;\n",
       "    }\n",
       "\n",
       "    .dataframe thead th {\n",
       "        text-align: right;\n",
       "    }\n",
       "</style>\n",
       "<table border=\"1\" class=\"dataframe\">\n",
       "  <thead>\n",
       "    <tr style=\"text-align: right;\">\n",
       "      <th></th>\n",
       "      <th>Date</th>\n",
       "      <th>Day</th>\n",
       "      <th>Month</th>\n",
       "      <th>Year</th>\n",
       "      <th>Customer_Age</th>\n",
       "      <th>Age_Group</th>\n",
       "      <th>Customer_Gender</th>\n",
       "      <th>Country</th>\n",
       "      <th>State</th>\n",
       "      <th>Product_Category</th>\n",
       "      <th>...</th>\n",
       "      <th>Order_Quantity</th>\n",
       "      <th>Unit_Cost</th>\n",
       "      <th>Unit_Price</th>\n",
       "      <th>Profit</th>\n",
       "      <th>Cost</th>\n",
       "      <th>Revenue</th>\n",
       "      <th>Revenue_per_Age</th>\n",
       "      <th>Calculated_Cost</th>\n",
       "      <th>Calculated_Revenue</th>\n",
       "      <th>Calculated_Date</th>\n",
       "    </tr>\n",
       "  </thead>\n",
       "  <tbody>\n",
       "    <tr>\n",
       "      <th>112073</th>\n",
       "      <td>2015-07-24</td>\n",
       "      <td>24</td>\n",
       "      <td>July</td>\n",
       "      <td>2015</td>\n",
       "      <td>52</td>\n",
       "      <td>Adults (35-64)</td>\n",
       "      <td>M</td>\n",
       "      <td>Australia</td>\n",
       "      <td>Queensland</td>\n",
       "      <td>Clothing</td>\n",
       "      <td>...</td>\n",
       "      <td>29</td>\n",
       "      <td>1482</td>\n",
       "      <td>2455.52</td>\n",
       "      <td>15096</td>\n",
       "      <td>42978</td>\n",
       "      <td>58174</td>\n",
       "      <td>1116.807692</td>\n",
       "      <td>42978</td>\n",
       "      <td>58074</td>\n",
       "      <td>2015-07-24</td>\n",
       "    </tr>\n",
       "    <tr>\n",
       "      <th>112072</th>\n",
       "      <td>2013-07-24</td>\n",
       "      <td>24</td>\n",
       "      <td>July</td>\n",
       "      <td>2013</td>\n",
       "      <td>52</td>\n",
       "      <td>Adults (35-64)</td>\n",
       "      <td>M</td>\n",
       "      <td>Australia</td>\n",
       "      <td>Queensland</td>\n",
       "      <td>Clothing</td>\n",
       "      <td>...</td>\n",
       "      <td>27</td>\n",
       "      <td>1482</td>\n",
       "      <td>2455.52</td>\n",
       "      <td>14055</td>\n",
       "      <td>40014</td>\n",
       "      <td>54169</td>\n",
       "      <td>1039.788462</td>\n",
       "      <td>40014</td>\n",
       "      <td>54069</td>\n",
       "      <td>2013-07-24</td>\n",
       "    </tr>\n",
       "    <tr>\n",
       "      <th>71129</th>\n",
       "      <td>2011-07-08</td>\n",
       "      <td>8</td>\n",
       "      <td>July</td>\n",
       "      <td>2011</td>\n",
       "      <td>22</td>\n",
       "      <td>Youth (&lt;25)</td>\n",
       "      <td>M</td>\n",
       "      <td>Canada</td>\n",
       "      <td>Alberta</td>\n",
       "      <td>Bikes</td>\n",
       "      <td>...</td>\n",
       "      <td>4</td>\n",
       "      <td>2171</td>\n",
       "      <td>3685.34</td>\n",
       "      <td>5628</td>\n",
       "      <td>8684</td>\n",
       "      <td>14412</td>\n",
       "      <td>650.545455</td>\n",
       "      <td>8684</td>\n",
       "      <td>14312</td>\n",
       "      <td>2011-07-08</td>\n",
       "    </tr>\n",
       "    <tr>\n",
       "      <th>70307</th>\n",
       "      <td>2011-04-30</td>\n",
       "      <td>30</td>\n",
       "      <td>April</td>\n",
       "      <td>2011</td>\n",
       "      <td>44</td>\n",
       "      <td>Adults (35-64)</td>\n",
       "      <td>M</td>\n",
       "      <td>Canada</td>\n",
       "      <td>British Columbia</td>\n",
       "      <td>Bikes</td>\n",
       "      <td>...</td>\n",
       "      <td>4</td>\n",
       "      <td>2171</td>\n",
       "      <td>3685.34</td>\n",
       "      <td>5485</td>\n",
       "      <td>8684</td>\n",
       "      <td>14269</td>\n",
       "      <td>322.022727</td>\n",
       "      <td>8684</td>\n",
       "      <td>14169</td>\n",
       "      <td>2011-04-30</td>\n",
       "    </tr>\n",
       "    <tr>\n",
       "      <th>70601</th>\n",
       "      <td>2011-09-30</td>\n",
       "      <td>30</td>\n",
       "      <td>September</td>\n",
       "      <td>2011</td>\n",
       "      <td>19</td>\n",
       "      <td>Youth (&lt;25)</td>\n",
       "      <td>F</td>\n",
       "      <td>Canada</td>\n",
       "      <td>British Columbia</td>\n",
       "      <td>Bikes</td>\n",
       "      <td>...</td>\n",
       "      <td>4</td>\n",
       "      <td>2171</td>\n",
       "      <td>3685.34</td>\n",
       "      <td>5485</td>\n",
       "      <td>8684</td>\n",
       "      <td>14269</td>\n",
       "      <td>745.736842</td>\n",
       "      <td>8684</td>\n",
       "      <td>14169</td>\n",
       "      <td>2011-09-30</td>\n",
       "    </tr>\n",
       "  </tbody>\n",
       "</table>\n",
       "<p>5 rows × 22 columns</p>\n",
       "</div>"
      ],
      "text/plain": [
       "             Date  Day      Month  Year  Customer_Age       Age_Group  \\\n",
       "112073 2015-07-24   24       July  2015            52  Adults (35-64)   \n",
       "112072 2013-07-24   24       July  2013            52  Adults (35-64)   \n",
       "71129  2011-07-08    8       July  2011            22     Youth (<25)   \n",
       "70307  2011-04-30   30      April  2011            44  Adults (35-64)   \n",
       "70601  2011-09-30   30  September  2011            19     Youth (<25)   \n",
       "\n",
       "       Customer_Gender    Country             State Product_Category  ...  \\\n",
       "112073               M  Australia        Queensland         Clothing  ...   \n",
       "112072               M  Australia        Queensland         Clothing  ...   \n",
       "71129                M     Canada           Alberta            Bikes  ...   \n",
       "70307                M     Canada  British Columbia            Bikes  ...   \n",
       "70601                F     Canada  British Columbia            Bikes  ...   \n",
       "\n",
       "       Order_Quantity Unit_Cost  Unit_Price  Profit   Cost  Revenue  \\\n",
       "112073             29      1482     2455.52   15096  42978    58174   \n",
       "112072             27      1482     2455.52   14055  40014    54169   \n",
       "71129               4      2171     3685.34    5628   8684    14412   \n",
       "70307               4      2171     3685.34    5485   8684    14269   \n",
       "70601               4      2171     3685.34    5485   8684    14269   \n",
       "\n",
       "        Revenue_per_Age  Calculated_Cost  Calculated_Revenue  Calculated_Date  \n",
       "112073      1116.807692            42978               58074       2015-07-24  \n",
       "112072      1039.788462            40014               54069       2013-07-24  \n",
       "71129        650.545455             8684               14312       2011-07-08  \n",
       "70307        322.022727             8684               14169       2011-04-30  \n",
       "70601        745.736842             8684               14169       2011-09-30  \n",
       "\n",
       "[5 rows x 22 columns]"
      ]
     },
     "execution_count": 184,
     "metadata": {},
     "output_type": "execute_result"
    }
   ],
   "source": [
    "#Get the top-5 sales with the highest revenue\n",
    "sales.sort_values(['Revenue'], ascending = False).head(5)\n",
    "#Use sort_values to sort"
   ]
  },
  {
   "cell_type": "code",
   "execution_count": 186,
   "id": "7a1da4eb",
   "metadata": {},
   "outputs": [
    {
     "data": {
      "text/html": [
       "<div>\n",
       "<style scoped>\n",
       "    .dataframe tbody tr th:only-of-type {\n",
       "        vertical-align: middle;\n",
       "    }\n",
       "\n",
       "    .dataframe tbody tr th {\n",
       "        vertical-align: top;\n",
       "    }\n",
       "\n",
       "    .dataframe thead th {\n",
       "        text-align: right;\n",
       "    }\n",
       "</style>\n",
       "<table border=\"1\" class=\"dataframe\">\n",
       "  <thead>\n",
       "    <tr style=\"text-align: right;\">\n",
       "      <th></th>\n",
       "      <th>Date</th>\n",
       "      <th>Day</th>\n",
       "      <th>Month</th>\n",
       "      <th>Year</th>\n",
       "      <th>Customer_Age</th>\n",
       "      <th>Age_Group</th>\n",
       "      <th>Customer_Gender</th>\n",
       "      <th>Country</th>\n",
       "      <th>State</th>\n",
       "      <th>Product_Category</th>\n",
       "      <th>...</th>\n",
       "      <th>Order_Quantity</th>\n",
       "      <th>Unit_Cost</th>\n",
       "      <th>Unit_Price</th>\n",
       "      <th>Profit</th>\n",
       "      <th>Cost</th>\n",
       "      <th>Revenue</th>\n",
       "      <th>Revenue_per_Age</th>\n",
       "      <th>Calculated_Cost</th>\n",
       "      <th>Calculated_Revenue</th>\n",
       "      <th>Calculated_Date</th>\n",
       "    </tr>\n",
       "  </thead>\n",
       "  <tbody>\n",
       "    <tr>\n",
       "      <th>112073</th>\n",
       "      <td>2015-07-24</td>\n",
       "      <td>24</td>\n",
       "      <td>July</td>\n",
       "      <td>2015</td>\n",
       "      <td>52</td>\n",
       "      <td>Adults (35-64)</td>\n",
       "      <td>M</td>\n",
       "      <td>Australia</td>\n",
       "      <td>Queensland</td>\n",
       "      <td>Clothing</td>\n",
       "      <td>...</td>\n",
       "      <td>29</td>\n",
       "      <td>1482</td>\n",
       "      <td>2455.52</td>\n",
       "      <td>15096</td>\n",
       "      <td>42978</td>\n",
       "      <td>58174</td>\n",
       "      <td>1116.807692</td>\n",
       "      <td>42978</td>\n",
       "      <td>58074</td>\n",
       "      <td>2015-07-24</td>\n",
       "    </tr>\n",
       "  </tbody>\n",
       "</table>\n",
       "<p>1 rows × 22 columns</p>\n",
       "</div>"
      ],
      "text/plain": [
       "             Date  Day Month  Year  Customer_Age       Age_Group  \\\n",
       "112073 2015-07-24   24  July  2015            52  Adults (35-64)   \n",
       "\n",
       "       Customer_Gender    Country       State Product_Category  ...  \\\n",
       "112073               M  Australia  Queensland         Clothing  ...   \n",
       "\n",
       "       Order_Quantity Unit_Cost  Unit_Price  Profit   Cost  Revenue  \\\n",
       "112073             29      1482     2455.52   15096  42978    58174   \n",
       "\n",
       "        Revenue_per_Age  Calculated_Cost  Calculated_Revenue  Calculated_Date  \n",
       "112073      1116.807692            42978               58074       2015-07-24  \n",
       "\n",
       "[1 rows x 22 columns]"
      ]
     },
     "execution_count": 186,
     "metadata": {},
     "output_type": "execute_result"
    }
   ],
   "source": [
    "#Get the sale with the highest revenue\n",
    "sales.sort_values(['Revenue'], ascending = False).head(1)"
   ]
  },
  {
   "cell_type": "code",
   "execution_count": 196,
   "id": "b1da8d59",
   "metadata": {},
   "outputs": [
    {
     "data": {
      "text/plain": [
       "3.6853932584269664"
      ]
     },
     "execution_count": 196,
     "metadata": {},
     "output_type": "execute_result"
    }
   ],
   "source": [
    "#What is the mean Order_Quantity of orders with more than 10K in revenue?\n",
    "high_revenue = sales['Revenue']>10000\n",
    "sales.loc[(high_revenue, 'Order_Quantity')].mean()\n",
    "#data.loc[(row selection),(column selection)]"
   ]
  },
  {
   "cell_type": "code",
   "execution_count": 197,
   "id": "7d62387d",
   "metadata": {},
   "outputs": [
    {
     "data": {
      "text/plain": [
       "11.914618369987064"
      ]
     },
     "execution_count": 197,
     "metadata": {},
     "output_type": "execute_result"
    }
   ],
   "source": [
    "#What is the mean Order_Quantity of orders with less than 10K in revenue?\n",
    "low_revenue = sales['Revenue']<10000\n",
    "sales.loc[(low_revenue, 'Order_Quantity')].mean()"
   ]
  },
  {
   "cell_type": "code",
   "execution_count": 205,
   "id": "e27668b3",
   "metadata": {},
   "outputs": [
    {
     "data": {
      "text/plain": [
       "5015"
      ]
     },
     "execution_count": 205,
     "metadata": {},
     "output_type": "execute_result"
    }
   ],
   "source": [
    "#How many orders were made in May of 2016?\n",
    "sales.loc[(sales['Year']==2016) & (sales['Month']=='May')].shape[0]"
   ]
  },
  {
   "cell_type": "code",
   "execution_count": 206,
   "id": "702d92a6",
   "metadata": {},
   "outputs": [
    {
     "data": {
      "text/plain": [
       "12164"
      ]
     },
     "execution_count": 206,
     "metadata": {},
     "output_type": "execute_result"
    }
   ],
   "source": [
    "#How many orders were made between May and July of 2016?\n",
    "sales.loc[(sales['Year']==2016) & (sales['Month'].isin(['May','June','July']))].shape[0]\n",
    "## use isin. for more than one condition in a column\n",
    "##Show a grouped box plot per month with the profit values."
   ]
  },
  {
   "cell_type": "code",
   "execution_count": 210,
   "id": "f20ab324",
   "metadata": {},
   "outputs": [
    {
     "data": {
      "text/html": [
       "<div>\n",
       "<style scoped>\n",
       "    .dataframe tbody tr th:only-of-type {\n",
       "        vertical-align: middle;\n",
       "    }\n",
       "\n",
       "    .dataframe tbody tr th {\n",
       "        vertical-align: top;\n",
       "    }\n",
       "\n",
       "    .dataframe thead th {\n",
       "        text-align: right;\n",
       "    }\n",
       "</style>\n",
       "<table border=\"1\" class=\"dataframe\">\n",
       "  <thead>\n",
       "    <tr style=\"text-align: right;\">\n",
       "      <th></th>\n",
       "      <th>Profit</th>\n",
       "      <th>Month</th>\n",
       "    </tr>\n",
       "  </thead>\n",
       "  <tbody>\n",
       "    <tr>\n",
       "      <th>3</th>\n",
       "      <td>1188</td>\n",
       "      <td>March</td>\n",
       "    </tr>\n",
       "    <tr>\n",
       "      <th>5</th>\n",
       "      <td>297</td>\n",
       "      <td>May</td>\n",
       "    </tr>\n",
       "    <tr>\n",
       "      <th>7</th>\n",
       "      <td>100</td>\n",
       "      <td>May</td>\n",
       "    </tr>\n",
       "    <tr>\n",
       "      <th>9</th>\n",
       "      <td>1046</td>\n",
       "      <td>February</td>\n",
       "    </tr>\n",
       "    <tr>\n",
       "      <th>19</th>\n",
       "      <td>74</td>\n",
       "      <td>January</td>\n",
       "    </tr>\n",
       "    <tr>\n",
       "      <th>...</th>\n",
       "      <td>...</td>\n",
       "      <td>...</td>\n",
       "    </tr>\n",
       "    <tr>\n",
       "      <th>113023</th>\n",
       "      <td>1007</td>\n",
       "      <td>March</td>\n",
       "    </tr>\n",
       "    <tr>\n",
       "      <th>113025</th>\n",
       "      <td>542</td>\n",
       "      <td>April</td>\n",
       "    </tr>\n",
       "    <tr>\n",
       "      <th>113031</th>\n",
       "      <td>112</td>\n",
       "      <td>April</td>\n",
       "    </tr>\n",
       "    <tr>\n",
       "      <th>113033</th>\n",
       "      <td>655</td>\n",
       "      <td>April</td>\n",
       "    </tr>\n",
       "    <tr>\n",
       "      <th>113035</th>\n",
       "      <td>655</td>\n",
       "      <td>March</td>\n",
       "    </tr>\n",
       "  </tbody>\n",
       "</table>\n",
       "<p>29398 rows × 2 columns</p>\n",
       "</div>"
      ],
      "text/plain": [
       "        Profit     Month\n",
       "3         1188     March\n",
       "5          297       May\n",
       "7          100       May\n",
       "9         1046  February\n",
       "19          74   January\n",
       "...        ...       ...\n",
       "113023    1007     March\n",
       "113025     542     April\n",
       "113031     112     April\n",
       "113033     655     April\n",
       "113035     655     March\n",
       "\n",
       "[29398 rows x 2 columns]"
      ]
     },
     "execution_count": 210,
     "metadata": {},
     "output_type": "execute_result"
    }
   ],
   "source": [
    "profit_2016 = sales.loc[sales['Year'] == 2016, ['Profit', 'Month']]\n",
    "#data.loc[condition for rows,['column1','column2']]\n",
    "profit_2016"
   ]
  },
  {
   "cell_type": "code",
   "execution_count": 211,
   "id": "619cc853",
   "metadata": {},
   "outputs": [
    {
     "data": {
      "text/plain": [
       "<AxesSubplot:title={'center':'Profit'}, xlabel='[Month]'>"
      ]
     },
     "execution_count": 211,
     "metadata": {},
     "output_type": "execute_result"
    },
    {
     "data": {
      "image/png": "[encoded data removed]",
      "text/plain": [
       "<Figure size 1008x432 with 1 Axes>"
      ]
     },
     "metadata": {
      "needs_background": "light"
     },
     "output_type": "display_data"
    }
   ],
   "source": [
    "profit_2016.boxplot(by='Month', figsize=(14,6))"
   ]
  },
  {
   "cell_type": "code",
   "execution_count": 213,
   "id": "b8a10169",
   "metadata": {},
   "outputs": [],
   "source": [
    "#Add 7.2% TAX on every sale Unit_Price within United States\n",
    "sales.loc[sales['Country']=='United States', 'Unit_Price']*= 1.072"
   ]
  }
 ],
 "metadata": {
  "kernelspec": {
   "display_name": "Python 3 (ipykernel)",
   "language": "python",
   "name": "python3"
  },
  "language_info": {
   "codemirror_mode": {
    "name": "ipython",
    "version": 3
   },
   "file_extension": ".py",
   "mimetype": "text/x-python",
   "name": "python",
   "nbconvert_exporter": "python",
   "pygments_lexer": "ipython3",
   "version": "3.9.7"
  }
 },
 "nbformat": 4,
 "nbformat_minor": 5
}
